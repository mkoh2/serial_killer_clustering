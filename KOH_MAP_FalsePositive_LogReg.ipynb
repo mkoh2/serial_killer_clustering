{
 "cells": [
  {
   "cell_type": "code",
   "execution_count": 36,
   "id": "68810f67-03bc-4268-b738-a8c776e4d29e",
   "metadata": {},
   "outputs": [],
   "source": [
    "import pandas as pd\n",
    "import numpy as np\n",
    "import seaborn as sns\n",
    "import matplotlib.pyplot as plt\n",
    "\n",
    "from statsmodels import regression\n",
    "\n",
    "from sklearn.linear_model import LinearRegression, LogisticRegression, Lasso, Ridge\n",
    "from sklearn.model_selection import GridSearchCV\n",
    "\n",
    "from category_encoders import OneHotEncoder\n",
    "\n",
    "from sklearn.model_selection import train_test_split\n",
    "\n",
    "from sklearn.preprocessing import StandardScaler\n",
    "\n",
    "from sklearn.metrics import ConfusionMatrixDisplay\n",
    "from sklearn.metrics import confusion_matrix\n",
    "from sklearn.metrics import classification_report\n",
    "from sklearn.metrics import accuracy_score\n",
    "from sklearn.metrics import mean_squared_error\n",
    "from sklearn.metrics import classification_report"
   ]
  },
  {
   "cell_type": "code",
   "execution_count": 2,
   "id": "6bd2fd9e-c258-46ad-814c-2eacf2b0661b",
   "metadata": {},
   "outputs": [],
   "source": [
    "solved_mapdf_sex = pd.read_csv('pred_mapdf.csv')"
   ]
  },
  {
   "cell_type": "code",
   "execution_count": 3,
   "id": "c050e4dd-5df8-49e1-b471-a16af872a461",
   "metadata": {},
   "outputs": [
    {
     "data": {
      "text/plain": [
       "Index(['Unnamed: 0', 'id', 'cntyfips', 'ori', 'state', 'agency', 'agentype',\n",
       "       'source', 'solved', 'year', 'month', 'incident', 'actiontype',\n",
       "       'homicide', 'situation', 'vicage', 'vicsex', 'vicrace', 'vicethnic',\n",
       "       'offage', 'offsex', 'offrace', 'offethnic', 'weapon', 'relationship',\n",
       "       'circumstance', 'viccount', 'offcount', 'msa', 'year_str', 'monthyear',\n",
       "       'datetime', 'offrace_cat', 'offsex_cat', 'preds', 'offsex_pred'],\n",
       "      dtype='object')"
      ]
     },
     "execution_count": 3,
     "metadata": {},
     "output_type": "execute_result"
    }
   ],
   "source": [
    "solved_mapdf_sex.columns"
   ]
  },
  {
   "cell_type": "code",
   "execution_count": 5,
   "id": "b1a0d598-720f-4994-9ffa-5fc3907a64de",
   "metadata": {},
   "outputs": [],
   "source": [
    "solved_mapdf_sex.drop(columns = 'Unnamed: 0', inplace=True)"
   ]
  },
  {
   "cell_type": "code",
   "execution_count": 22,
   "id": "d2b0a400-d7f6-4b07-98eb-7bee3eea2387",
   "metadata": {},
   "outputs": [],
   "source": [
    "X = solved_mapdf_sex.drop(columns = ['id', 'cntyfips', 'ori', 'agency', 'agentype', 'source',\n",
    "     'solved','incident', 'actiontype', 'offage', \n",
    "       'offsex', 'offrace', 'offethnic',\n",
    "       'circumstance', 'viccount', 'offcount', 'msa', 'year_str', 'monthyear',\n",
    "       'datetime', 'offrace_cat', 'offsex_cat', 'preds', 'offsex_pred'])\n",
    "y = solved_mapdf_sex['offsex_pred']"
   ]
  },
  {
   "cell_type": "code",
   "execution_count": 23,
   "id": "82392174-f2a7-4622-b34e-b4ca2cdd9c9f",
   "metadata": {},
   "outputs": [
    {
     "data": {
      "text/plain": [
       "Index(['state', 'year', 'month', 'homicide', 'situation', 'vicage', 'vicsex',\n",
       "       'vicrace', 'vicethnic', 'weapon', 'relationship'],\n",
       "      dtype='object')"
      ]
     },
     "execution_count": 23,
     "metadata": {},
     "output_type": "execute_result"
    }
   ],
   "source": [
    "X.columns"
   ]
  },
  {
   "cell_type": "code",
   "execution_count": 24,
   "id": "67bf8fe9-9b42-4db0-8992-d5d16c7cb453",
   "metadata": {},
   "outputs": [],
   "source": [
    "ohe = OneHotEncoder(cols = ['state', 'weapon', 'vicsex', 'vicrace', 'vicethnic', 'relationship', 'homicide', 'situation', 'month'], use_cat_names = True)"
   ]
  },
  {
   "cell_type": "code",
   "execution_count": 25,
   "id": "bc2e59fa-c545-4471-9aee-10b82ad8ae69",
   "metadata": {},
   "outputs": [
    {
     "data": {
      "text/plain": [
       "OneHotEncoder(cols=['state', 'weapon', 'vicsex', 'vicrace', 'vicethnic',\n",
       "                    'relationship', 'homicide', 'situation', 'month'],\n",
       "              use_cat_names=True)"
      ]
     },
     "execution_count": 25,
     "metadata": {},
     "output_type": "execute_result"
    }
   ],
   "source": [
    "ohe.fit(X)"
   ]
  },
  {
   "cell_type": "code",
   "execution_count": 29,
   "id": "bedd4c92-76fa-4671-9b03-954eb025703b",
   "metadata": {
    "tags": []
   },
   "outputs": [],
   "source": [
    "X = ohe.transform(X)"
   ]
  },
  {
   "cell_type": "code",
   "execution_count": 30,
   "id": "54c65d08-af9a-4826-8a89-b015730fbc08",
   "metadata": {},
   "outputs": [
    {
     "data": {
      "text/html": [
       "<div>\n",
       "<style scoped>\n",
       "    .dataframe tbody tr th:only-of-type {\n",
       "        vertical-align: middle;\n",
       "    }\n",
       "\n",
       "    .dataframe tbody tr th {\n",
       "        vertical-align: top;\n",
       "    }\n",
       "\n",
       "    .dataframe thead th {\n",
       "        text-align: right;\n",
       "    }\n",
       "</style>\n",
       "<table border=\"1\" class=\"dataframe\">\n",
       "  <thead>\n",
       "    <tr style=\"text-align: right;\">\n",
       "      <th></th>\n",
       "      <th>state_Alabama</th>\n",
       "      <th>state_Alaska</th>\n",
       "      <th>state_Arizona</th>\n",
       "      <th>state_Arkansas</th>\n",
       "      <th>state_California</th>\n",
       "      <th>state_Colorado</th>\n",
       "      <th>state_Connecticut</th>\n",
       "      <th>state_Delaware</th>\n",
       "      <th>state_District of Columbia</th>\n",
       "      <th>state_Florida</th>\n",
       "      <th>...</th>\n",
       "      <th>relationship_Stepfather</th>\n",
       "      <th>relationship_Ex-husband</th>\n",
       "      <th>relationship_Other family</th>\n",
       "      <th>relationship_Girlfriend</th>\n",
       "      <th>relationship_Employee</th>\n",
       "      <th>relationship_Stepmother</th>\n",
       "      <th>relationship_Sister</th>\n",
       "      <th>relationship_Stepdaughter</th>\n",
       "      <th>relationship_Employer</th>\n",
       "      <th>relationship_Homosexual relationship</th>\n",
       "    </tr>\n",
       "  </thead>\n",
       "  <tbody>\n",
       "    <tr>\n",
       "      <th>0</th>\n",
       "      <td>1</td>\n",
       "      <td>0</td>\n",
       "      <td>0</td>\n",
       "      <td>0</td>\n",
       "      <td>0</td>\n",
       "      <td>0</td>\n",
       "      <td>0</td>\n",
       "      <td>0</td>\n",
       "      <td>0</td>\n",
       "      <td>0</td>\n",
       "      <td>...</td>\n",
       "      <td>0</td>\n",
       "      <td>0</td>\n",
       "      <td>0</td>\n",
       "      <td>0</td>\n",
       "      <td>0</td>\n",
       "      <td>0</td>\n",
       "      <td>0</td>\n",
       "      <td>0</td>\n",
       "      <td>0</td>\n",
       "      <td>0</td>\n",
       "    </tr>\n",
       "    <tr>\n",
       "      <th>1</th>\n",
       "      <td>1</td>\n",
       "      <td>0</td>\n",
       "      <td>0</td>\n",
       "      <td>0</td>\n",
       "      <td>0</td>\n",
       "      <td>0</td>\n",
       "      <td>0</td>\n",
       "      <td>0</td>\n",
       "      <td>0</td>\n",
       "      <td>0</td>\n",
       "      <td>...</td>\n",
       "      <td>0</td>\n",
       "      <td>0</td>\n",
       "      <td>0</td>\n",
       "      <td>0</td>\n",
       "      <td>0</td>\n",
       "      <td>0</td>\n",
       "      <td>0</td>\n",
       "      <td>0</td>\n",
       "      <td>0</td>\n",
       "      <td>0</td>\n",
       "    </tr>\n",
       "    <tr>\n",
       "      <th>2</th>\n",
       "      <td>1</td>\n",
       "      <td>0</td>\n",
       "      <td>0</td>\n",
       "      <td>0</td>\n",
       "      <td>0</td>\n",
       "      <td>0</td>\n",
       "      <td>0</td>\n",
       "      <td>0</td>\n",
       "      <td>0</td>\n",
       "      <td>0</td>\n",
       "      <td>...</td>\n",
       "      <td>0</td>\n",
       "      <td>0</td>\n",
       "      <td>0</td>\n",
       "      <td>0</td>\n",
       "      <td>0</td>\n",
       "      <td>0</td>\n",
       "      <td>0</td>\n",
       "      <td>0</td>\n",
       "      <td>0</td>\n",
       "      <td>0</td>\n",
       "    </tr>\n",
       "    <tr>\n",
       "      <th>3</th>\n",
       "      <td>1</td>\n",
       "      <td>0</td>\n",
       "      <td>0</td>\n",
       "      <td>0</td>\n",
       "      <td>0</td>\n",
       "      <td>0</td>\n",
       "      <td>0</td>\n",
       "      <td>0</td>\n",
       "      <td>0</td>\n",
       "      <td>0</td>\n",
       "      <td>...</td>\n",
       "      <td>0</td>\n",
       "      <td>0</td>\n",
       "      <td>0</td>\n",
       "      <td>0</td>\n",
       "      <td>0</td>\n",
       "      <td>0</td>\n",
       "      <td>0</td>\n",
       "      <td>0</td>\n",
       "      <td>0</td>\n",
       "      <td>0</td>\n",
       "    </tr>\n",
       "    <tr>\n",
       "      <th>4</th>\n",
       "      <td>1</td>\n",
       "      <td>0</td>\n",
       "      <td>0</td>\n",
       "      <td>0</td>\n",
       "      <td>0</td>\n",
       "      <td>0</td>\n",
       "      <td>0</td>\n",
       "      <td>0</td>\n",
       "      <td>0</td>\n",
       "      <td>0</td>\n",
       "      <td>...</td>\n",
       "      <td>0</td>\n",
       "      <td>0</td>\n",
       "      <td>0</td>\n",
       "      <td>0</td>\n",
       "      <td>0</td>\n",
       "      <td>0</td>\n",
       "      <td>0</td>\n",
       "      <td>0</td>\n",
       "      <td>0</td>\n",
       "      <td>0</td>\n",
       "    </tr>\n",
       "  </tbody>\n",
       "</table>\n",
       "<p>5 rows × 132 columns</p>\n",
       "</div>"
      ],
      "text/plain": [
       "   state_Alabama  state_Alaska  state_Arizona  state_Arkansas  \\\n",
       "0              1             0              0               0   \n",
       "1              1             0              0               0   \n",
       "2              1             0              0               0   \n",
       "3              1             0              0               0   \n",
       "4              1             0              0               0   \n",
       "\n",
       "   state_California  state_Colorado  state_Connecticut  state_Delaware  \\\n",
       "0                 0               0                  0               0   \n",
       "1                 0               0                  0               0   \n",
       "2                 0               0                  0               0   \n",
       "3                 0               0                  0               0   \n",
       "4                 0               0                  0               0   \n",
       "\n",
       "   state_District of Columbia  state_Florida  ...  relationship_Stepfather  \\\n",
       "0                           0              0  ...                        0   \n",
       "1                           0              0  ...                        0   \n",
       "2                           0              0  ...                        0   \n",
       "3                           0              0  ...                        0   \n",
       "4                           0              0  ...                        0   \n",
       "\n",
       "   relationship_Ex-husband  relationship_Other family  \\\n",
       "0                        0                          0   \n",
       "1                        0                          0   \n",
       "2                        0                          0   \n",
       "3                        0                          0   \n",
       "4                        0                          0   \n",
       "\n",
       "   relationship_Girlfriend  relationship_Employee  relationship_Stepmother  \\\n",
       "0                        0                      0                        0   \n",
       "1                        0                      0                        0   \n",
       "2                        0                      0                        0   \n",
       "3                        0                      0                        0   \n",
       "4                        0                      0                        0   \n",
       "\n",
       "   relationship_Sister  relationship_Stepdaughter  relationship_Employer  \\\n",
       "0                    0                          0                      0   \n",
       "1                    0                          0                      0   \n",
       "2                    0                          0                      0   \n",
       "3                    0                          0                      0   \n",
       "4                    0                          0                      0   \n",
       "\n",
       "   relationship_Homosexual relationship  \n",
       "0                                     0  \n",
       "1                                     0  \n",
       "2                                     0  \n",
       "3                                     0  \n",
       "4                                     0  \n",
       "\n",
       "[5 rows x 132 columns]"
      ]
     },
     "execution_count": 30,
     "metadata": {},
     "output_type": "execute_result"
    }
   ],
   "source": [
    "X.head()"
   ]
  },
  {
   "cell_type": "code",
   "execution_count": 31,
   "id": "8aec8250-062f-43a2-b3b3-c3c81ed6e7e3",
   "metadata": {},
   "outputs": [],
   "source": [
    "X_train, X_test, y_train, y_test = train_test_split(X, y, stratify = y)"
   ]
  },
  {
   "cell_type": "code",
   "execution_count": 32,
   "id": "872aafb6-0922-4a66-81ea-7e4b84fa1c6b",
   "metadata": {},
   "outputs": [],
   "source": [
    "ss_log_preds = StandardScaler()\n",
    "X_train_preds = ss_log_preds.fit_transform(X_train)\n",
    "X_test_preds = ss_log_preds.transform(X_test)"
   ]
  },
  {
   "cell_type": "code",
   "execution_count": 34,
   "id": "e9cd7e29-b9fd-413e-9896-04018f0c0b3a",
   "metadata": {
    "collapsed": true,
    "jupyter": {
     "outputs_hidden": true
    },
    "tags": []
   },
   "outputs": [
    {
     "name": "stderr",
     "output_type": "stream",
     "text": [
      "/opt/anaconda3/lib/python3.7/site-packages/sklearn/linear_model/_logistic.py:765: ConvergenceWarning: lbfgs failed to converge (status=1):\n",
      "STOP: TOTAL NO. of ITERATIONS REACHED LIMIT.\n",
      "\n",
      "Increase the number of iterations (max_iter) or scale the data as shown in:\n",
      "    https://scikit-learn.org/stable/modules/preprocessing.html\n",
      "Please also refer to the documentation for alternative solver options:\n",
      "    https://scikit-learn.org/stable/modules/linear_model.html#logistic-regression\n",
      "  extra_warning_msg=_LOGISTIC_SOLVER_CONVERGENCE_MSG)\n"
     ]
    }
   ],
   "source": [
    "sex_logReg_preds = LogisticRegression(C = 1)\n",
    "sex_logReg_preds.fit(X_train_preds, y_train)\n",
    "y_pred_sex_preds = sex_logReg_preds.predict(X_test_preds)"
   ]
  },
  {
   "cell_type": "code",
   "execution_count": 35,
   "id": "86b1aeaa-1aa7-4e56-8c58-18788ae54768",
   "metadata": {},
   "outputs": [
    {
     "data": {
      "image/png": "[encoded data removed]",
      "text/plain": [
       "<Figure size 432x288 with 2 Axes>"
      ]
     },
     "metadata": {
      "needs_background": "light"
     },
     "output_type": "display_data"
    }
   ],
   "source": [
    "cm_norm = confusion_matrix(y_test, y_pred_sex_preds)\n",
    "disp = ConfusionMatrixDisplay(confusion_matrix = cm_norm, display_labels = sex_logReg_preds.classes_)\n",
    "disp.plot();"
   ]
  },
  {
   "cell_type": "code",
   "execution_count": 38,
   "id": "20957ed5-4edc-4b3b-b215-0e8b73e0817f",
   "metadata": {},
   "outputs": [
    {
     "data": {
      "image/png": "[encoded data removed]",
      "text/plain": [
       "<Figure size 432x288 with 2 Axes>"
      ]
     },
     "metadata": {
      "needs_background": "light"
     },
     "output_type": "display_data"
    }
   ],
   "source": [
    "cm_norm = confusion_matrix(y_test, y_pred_sex_preds, normalize = 'true')\n",
    "disp = ConfusionMatrixDisplay(confusion_matrix = cm_norm, display_labels = sex_logReg_preds.classes_)\n",
    "disp.plot();"
   ]
  },
  {
   "cell_type": "code",
   "execution_count": 37,
   "id": "8bdaa40c-5f0f-4814-a85a-91d16242771d",
   "metadata": {},
   "outputs": [
    {
     "name": "stdout",
     "output_type": "stream",
     "text": [
      "              precision    recall  f1-score   support\n",
      "\n",
      "           0       1.00      1.00      1.00    130622\n",
      "           1       1.00      1.00      1.00     15052\n",
      "\n",
      "    accuracy                           1.00    145674\n",
      "   macro avg       1.00      1.00      1.00    145674\n",
      "weighted avg       1.00      1.00      1.00    145674\n",
      "\n"
     ]
    }
   ],
   "source": [
    "print(classification_report(y_test, y_pred_sex_preds))"
   ]
  },
  {
   "cell_type": "code",
   "execution_count": null,
   "id": "c41bb74d-64ef-4112-8ce9-80426fb8bd40",
   "metadata": {},
   "outputs": [],
   "source": []
  }
 ],
 "metadata": {
  "kernelspec": {
   "display_name": "Python 3",
   "language": "python",
   "name": "python3"
  },
  "language_info": {
   "codemirror_mode": {
    "name": "ipython",
    "version": 3
   },
   "file_extension": ".py",
   "mimetype": "text/x-python",
   "name": "python",
   "nbconvert_exporter": "python",
   "pygments_lexer": "ipython3",
   "version": "3.7.11"
  }
 },
 "nbformat": 4,
 "nbformat_minor": 5
}
