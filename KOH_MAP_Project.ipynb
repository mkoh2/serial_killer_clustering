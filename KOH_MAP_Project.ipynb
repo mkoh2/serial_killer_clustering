{
 "cells": [
  {
   "cell_type": "code",
   "execution_count": 1,
   "id": "51919e25-a7e1-4ea7-be9d-f87dd0e201d2",
   "metadata": {},
   "outputs": [],
   "source": [
    "import pandas as pd\n",
    "import numpy as np\n",
    "import seaborn as sns\n",
    "import matplotlib.pyplot as plt\n",
    "\n",
    "from statsmodels import regression\n",
    "\n",
    "from sklearn.naive_bayes import MultinomialNB\n",
    "\n",
    "from sklearn.linear_model import LinearRegression, LogisticRegression, Lasso, Ridge\n",
    "\n",
    "from sklearn.metrics import ConfusionMatrixDisplay\n",
    "from sklearn.metrics import confusion_matrix\n",
    "from sklearn.metrics import mean_squared_error\n",
    "\n",
    "from sklearn.tree import DecisionTreeRegressor\n",
    "from sklearn.tree import plot_tree\n",
    "from sklearn.tree import DecisionTreeClassifier"
   ]
  },
  {
   "cell_type": "code",
   "execution_count": 2,
   "id": "234f648e-1582-43e1-bd4e-991b1b4d0e55",
   "metadata": {},
   "outputs": [
    {
     "name": "stderr",
     "output_type": "stream",
     "text": [
      "/opt/anaconda3/lib/python3.7/site-packages/IPython/core/interactiveshell.py:3437: DtypeWarning: Columns (9) have mixed types.Specify dtype option on import or set low_memory=False.\n",
      "  exec(code_obj, self.user_global_ns, self.user_ns)\n"
     ]
    }
   ],
   "source": [
    "mapdf = pd.read_csv('SHR76_20.csv')"
   ]
  },
  {
   "cell_type": "markdown",
   "id": "bd574039-482e-4139-b1ec-adc4bf638784",
   "metadata": {},
   "source": [
    "#### After we've loaded the data, let's check to make sure it looks okay."
   ]
  },
  {
   "cell_type": "code",
   "execution_count": 3,
   "id": "b3f2c5c6-1fd5-4495-b165-c69fd7a99fd2",
   "metadata": {},
   "outputs": [
    {
     "data": {
      "text/html": [
       "<div>\n",
       "<style scoped>\n",
       "    .dataframe tbody tr th:only-of-type {\n",
       "        vertical-align: middle;\n",
       "    }\n",
       "\n",
       "    .dataframe tbody tr th {\n",
       "        vertical-align: top;\n",
       "    }\n",
       "\n",
       "    .dataframe thead th {\n",
       "        text-align: right;\n",
       "    }\n",
       "</style>\n",
       "<table border=\"1\" class=\"dataframe\">\n",
       "  <thead>\n",
       "    <tr style=\"text-align: right;\">\n",
       "      <th></th>\n",
       "      <th>ID</th>\n",
       "      <th>CNTYFIPS</th>\n",
       "      <th>Ori</th>\n",
       "      <th>State</th>\n",
       "      <th>Agency</th>\n",
       "      <th>Agentype</th>\n",
       "      <th>Source</th>\n",
       "      <th>Solved</th>\n",
       "      <th>Year</th>\n",
       "      <th>StateName</th>\n",
       "      <th>...</th>\n",
       "      <th>OffRace</th>\n",
       "      <th>OffEthnic</th>\n",
       "      <th>Weapon</th>\n",
       "      <th>Relationship</th>\n",
       "      <th>Circumstance</th>\n",
       "      <th>Subcircum</th>\n",
       "      <th>VicCount</th>\n",
       "      <th>OffCount</th>\n",
       "      <th>FileDate</th>\n",
       "      <th>MSA</th>\n",
       "    </tr>\n",
       "  </thead>\n",
       "  <tbody>\n",
       "    <tr>\n",
       "      <th>0</th>\n",
       "      <td>197609001AL00400</td>\n",
       "      <td>Autauga, AL</td>\n",
       "      <td>AL00400</td>\n",
       "      <td>Alabama</td>\n",
       "      <td>Autauga County</td>\n",
       "      <td>Sheriff</td>\n",
       "      <td>FBI</td>\n",
       "      <td>No</td>\n",
       "      <td>1976</td>\n",
       "      <td>NaN</td>\n",
       "      <td>...</td>\n",
       "      <td>Unknown</td>\n",
       "      <td>Unknown or not reported</td>\n",
       "      <td>Other or type unknown</td>\n",
       "      <td>Relationship not determined</td>\n",
       "      <td>Other</td>\n",
       "      <td>NaN</td>\n",
       "      <td>0</td>\n",
       "      <td>0</td>\n",
       "      <td>30180.0</td>\n",
       "      <td>Montgomery, AL</td>\n",
       "    </tr>\n",
       "    <tr>\n",
       "      <th>1</th>\n",
       "      <td>197701001AL00400</td>\n",
       "      <td>Autauga, AL</td>\n",
       "      <td>AL00400</td>\n",
       "      <td>Alabama</td>\n",
       "      <td>Autauga County</td>\n",
       "      <td>Sheriff</td>\n",
       "      <td>FBI</td>\n",
       "      <td>Yes</td>\n",
       "      <td>1977</td>\n",
       "      <td>NaN</td>\n",
       "      <td>...</td>\n",
       "      <td>Black</td>\n",
       "      <td>Unknown or not reported</td>\n",
       "      <td>Other or type unknown</td>\n",
       "      <td>Acquaintance</td>\n",
       "      <td>Brawl due to influence of alcohol</td>\n",
       "      <td>NaN</td>\n",
       "      <td>0</td>\n",
       "      <td>0</td>\n",
       "      <td>30180.0</td>\n",
       "      <td>Montgomery, AL</td>\n",
       "    </tr>\n",
       "    <tr>\n",
       "      <th>2</th>\n",
       "      <td>197703001AL00400</td>\n",
       "      <td>Autauga, AL</td>\n",
       "      <td>AL00400</td>\n",
       "      <td>Alabama</td>\n",
       "      <td>Autauga County</td>\n",
       "      <td>Sheriff</td>\n",
       "      <td>FBI</td>\n",
       "      <td>Yes</td>\n",
       "      <td>1977</td>\n",
       "      <td>NaN</td>\n",
       "      <td>...</td>\n",
       "      <td>White</td>\n",
       "      <td>Unknown or not reported</td>\n",
       "      <td>Handgun - pistol, revolver, etc</td>\n",
       "      <td>Acquaintance</td>\n",
       "      <td>Other arguments</td>\n",
       "      <td>NaN</td>\n",
       "      <td>0</td>\n",
       "      <td>1</td>\n",
       "      <td>30180.0</td>\n",
       "      <td>Montgomery, AL</td>\n",
       "    </tr>\n",
       "    <tr>\n",
       "      <th>3</th>\n",
       "      <td>197703001AL00401</td>\n",
       "      <td>Autauga, AL</td>\n",
       "      <td>AL00401</td>\n",
       "      <td>Alabama</td>\n",
       "      <td>Prattville</td>\n",
       "      <td>Municipal police</td>\n",
       "      <td>FBI</td>\n",
       "      <td>Yes</td>\n",
       "      <td>1977</td>\n",
       "      <td>NaN</td>\n",
       "      <td>...</td>\n",
       "      <td>Black</td>\n",
       "      <td>Unknown or not reported</td>\n",
       "      <td>Shotgun</td>\n",
       "      <td>Husband</td>\n",
       "      <td>Other arguments</td>\n",
       "      <td>NaN</td>\n",
       "      <td>0</td>\n",
       "      <td>0</td>\n",
       "      <td>30180.0</td>\n",
       "      <td>Montgomery, AL</td>\n",
       "    </tr>\n",
       "    <tr>\n",
       "      <th>4</th>\n",
       "      <td>197708001AL00400</td>\n",
       "      <td>Autauga, AL</td>\n",
       "      <td>AL00400</td>\n",
       "      <td>Alabama</td>\n",
       "      <td>Autauga County</td>\n",
       "      <td>Sheriff</td>\n",
       "      <td>FBI</td>\n",
       "      <td>Yes</td>\n",
       "      <td>1977</td>\n",
       "      <td>NaN</td>\n",
       "      <td>...</td>\n",
       "      <td>Black</td>\n",
       "      <td>Unknown or not reported</td>\n",
       "      <td>Knife or cutting instrument</td>\n",
       "      <td>Acquaintance</td>\n",
       "      <td>Circumstances undetermined</td>\n",
       "      <td>NaN</td>\n",
       "      <td>0</td>\n",
       "      <td>0</td>\n",
       "      <td>30180.0</td>\n",
       "      <td>Montgomery, AL</td>\n",
       "    </tr>\n",
       "  </tbody>\n",
       "</table>\n",
       "<p>5 rows × 31 columns</p>\n",
       "</div>"
      ],
      "text/plain": [
       "                 ID     CNTYFIPS      Ori    State          Agency  \\\n",
       "0  197609001AL00400  Autauga, AL  AL00400  Alabama  Autauga County   \n",
       "1  197701001AL00400  Autauga, AL  AL00400  Alabama  Autauga County   \n",
       "2  197703001AL00400  Autauga, AL  AL00400  Alabama  Autauga County   \n",
       "3  197703001AL00401  Autauga, AL  AL00401  Alabama      Prattville   \n",
       "4  197708001AL00400  Autauga, AL  AL00400  Alabama  Autauga County   \n",
       "\n",
       "           Agentype Source Solved  Year StateName  ...  OffRace  \\\n",
       "0           Sheriff    FBI     No  1976       NaN  ...  Unknown   \n",
       "1           Sheriff    FBI    Yes  1977       NaN  ...    Black   \n",
       "2           Sheriff    FBI    Yes  1977       NaN  ...    White   \n",
       "3  Municipal police    FBI    Yes  1977       NaN  ...    Black   \n",
       "4           Sheriff    FBI    Yes  1977       NaN  ...    Black   \n",
       "\n",
       "                 OffEthnic                           Weapon  \\\n",
       "0  Unknown or not reported            Other or type unknown   \n",
       "1  Unknown or not reported            Other or type unknown   \n",
       "2  Unknown or not reported  Handgun - pistol, revolver, etc   \n",
       "3  Unknown or not reported                          Shotgun   \n",
       "4  Unknown or not reported      Knife or cutting instrument   \n",
       "\n",
       "                  Relationship                       Circumstance  Subcircum  \\\n",
       "0  Relationship not determined                              Other        NaN   \n",
       "1                 Acquaintance  Brawl due to influence of alcohol        NaN   \n",
       "2                 Acquaintance                    Other arguments        NaN   \n",
       "3                      Husband                    Other arguments        NaN   \n",
       "4                 Acquaintance         Circumstances undetermined        NaN   \n",
       "\n",
       "  VicCount OffCount FileDate             MSA  \n",
       "0        0        0  30180.0  Montgomery, AL  \n",
       "1        0        0  30180.0  Montgomery, AL  \n",
       "2        0        1  30180.0  Montgomery, AL  \n",
       "3        0        0  30180.0  Montgomery, AL  \n",
       "4        0        0  30180.0  Montgomery, AL  \n",
       "\n",
       "[5 rows x 31 columns]"
      ]
     },
     "execution_count": 3,
     "metadata": {},
     "output_type": "execute_result"
    }
   ],
   "source": [
    "mapdf.head()"
   ]
  },
  {
   "cell_type": "code",
   "execution_count": 4,
   "id": "e8cbd8aa-2fb0-4fa9-839a-b3291ade93c2",
   "metadata": {},
   "outputs": [
    {
     "name": "stdout",
     "output_type": "stream",
     "text": [
      "<class 'pandas.core.frame.DataFrame'>\n",
      "RangeIndex: 827219 entries, 0 to 827218\n",
      "Data columns (total 31 columns):\n",
      " #   Column        Non-Null Count   Dtype  \n",
      "---  ------        --------------   -----  \n",
      " 0   ID            827219 non-null  object \n",
      " 1   CNTYFIPS      827219 non-null  object \n",
      " 2   Ori           827219 non-null  object \n",
      " 3   State         827219 non-null  object \n",
      " 4   Agency        827219 non-null  object \n",
      " 5   Agentype      827219 non-null  object \n",
      " 6   Source        827219 non-null  object \n",
      " 7   Solved        827219 non-null  object \n",
      " 8   Year          827219 non-null  int64  \n",
      " 9   StateName     22468 non-null   object \n",
      " 10  Month         827219 non-null  object \n",
      " 11  Incident      827219 non-null  int64  \n",
      " 12  ActionType    827219 non-null  object \n",
      " 13  Homicide      827219 non-null  object \n",
      " 14  Situation     827219 non-null  object \n",
      " 15  VicAge        827219 non-null  int64  \n",
      " 16  VicSex        827219 non-null  object \n",
      " 17  VicRace       827219 non-null  object \n",
      " 18  VicEthnic     827219 non-null  object \n",
      " 19  OffAge        827219 non-null  int64  \n",
      " 20  OffSex        827219 non-null  object \n",
      " 21  OffRace       827219 non-null  object \n",
      " 22  OffEthnic     827219 non-null  object \n",
      " 23  Weapon        827219 non-null  object \n",
      " 24  Relationship  827219 non-null  object \n",
      " 25  Circumstance  827219 non-null  object \n",
      " 26  Subcircum     32451 non-null   object \n",
      " 27  VicCount      827219 non-null  int64  \n",
      " 28  OffCount      827219 non-null  int64  \n",
      " 29  FileDate      824709 non-null  float64\n",
      " 30  MSA           827219 non-null  object \n",
      "dtypes: float64(1), int64(6), object(24)\n",
      "memory usage: 195.6+ MB\n"
     ]
    }
   ],
   "source": [
    "mapdf.info()"
   ]
  },
  {
   "cell_type": "markdown",
   "id": "9c40a420-ad56-4934-827d-4134c73863ac",
   "metadata": {},
   "source": [
    "#### We need to add a proper datetime column. Note that Year is a number. Change that to string and then concat new string to Month."
   ]
  },
  {
   "cell_type": "code",
   "execution_count": 5,
   "id": "66faeef4-cf20-481a-97e6-2477b9a83e8a",
   "metadata": {},
   "outputs": [],
   "source": [
    "mapdf['Year_str'] = mapdf['Year'].astype('str')"
   ]
  },
  {
   "cell_type": "code",
   "execution_count": 6,
   "id": "299d810f-6a95-48b0-9258-a89783d8f448",
   "metadata": {},
   "outputs": [],
   "source": [
    "mapdf['monthyear'] = mapdf['Month'] + '-' + mapdf['Year_str']"
   ]
  },
  {
   "cell_type": "code",
   "execution_count": 7,
   "id": "20c52c45-49d2-4767-a7c6-dd1b2ff9c763",
   "metadata": {},
   "outputs": [],
   "source": [
    "mapdf['datetime'] = pd.to_datetime(mapdf['monthyear'])"
   ]
  },
  {
   "cell_type": "markdown",
   "id": "987d5846-b59e-441f-89e5-03eb9670aac8",
   "metadata": {},
   "source": [
    "#### Tada! Now we have a new datetime column that is in the type: datetime"
   ]
  },
  {
   "cell_type": "markdown",
   "id": "140412e5-4045-4ef4-95b5-6e4fdf59739f",
   "metadata": {},
   "source": [
    "#### We have a lot of NaNs in StateName and Subcircum. I wonder why. Let's look at .info() to see if we can check any others."
   ]
  },
  {
   "cell_type": "code",
   "execution_count": 8,
   "id": "6aaf1f2d-7a77-46bc-a417-fd374773bd6e",
   "metadata": {},
   "outputs": [
    {
     "name": "stdout",
     "output_type": "stream",
     "text": [
      "<class 'pandas.core.frame.DataFrame'>\n",
      "RangeIndex: 827219 entries, 0 to 827218\n",
      "Data columns (total 34 columns):\n",
      " #   Column        Non-Null Count   Dtype         \n",
      "---  ------        --------------   -----         \n",
      " 0   ID            827219 non-null  object        \n",
      " 1   CNTYFIPS      827219 non-null  object        \n",
      " 2   Ori           827219 non-null  object        \n",
      " 3   State         827219 non-null  object        \n",
      " 4   Agency        827219 non-null  object        \n",
      " 5   Agentype      827219 non-null  object        \n",
      " 6   Source        827219 non-null  object        \n",
      " 7   Solved        827219 non-null  object        \n",
      " 8   Year          827219 non-null  int64         \n",
      " 9   StateName     22468 non-null   object        \n",
      " 10  Month         827219 non-null  object        \n",
      " 11  Incident      827219 non-null  int64         \n",
      " 12  ActionType    827219 non-null  object        \n",
      " 13  Homicide      827219 non-null  object        \n",
      " 14  Situation     827219 non-null  object        \n",
      " 15  VicAge        827219 non-null  int64         \n",
      " 16  VicSex        827219 non-null  object        \n",
      " 17  VicRace       827219 non-null  object        \n",
      " 18  VicEthnic     827219 non-null  object        \n",
      " 19  OffAge        827219 non-null  int64         \n",
      " 20  OffSex        827219 non-null  object        \n",
      " 21  OffRace       827219 non-null  object        \n",
      " 22  OffEthnic     827219 non-null  object        \n",
      " 23  Weapon        827219 non-null  object        \n",
      " 24  Relationship  827219 non-null  object        \n",
      " 25  Circumstance  827219 non-null  object        \n",
      " 26  Subcircum     32451 non-null   object        \n",
      " 27  VicCount      827219 non-null  int64         \n",
      " 28  OffCount      827219 non-null  int64         \n",
      " 29  FileDate      824709 non-null  float64       \n",
      " 30  MSA           827219 non-null  object        \n",
      " 31  Year_str      827219 non-null  object        \n",
      " 32  monthyear     827219 non-null  object        \n",
      " 33  datetime      827219 non-null  datetime64[ns]\n",
      "dtypes: datetime64[ns](1), float64(1), int64(6), object(26)\n",
      "memory usage: 214.6+ MB\n"
     ]
    }
   ],
   "source": [
    "mapdf.info()"
   ]
  },
  {
   "cell_type": "markdown",
   "id": "972f1247-c62f-4e4f-aa60-e3bddd6d82f7",
   "metadata": {},
   "source": [
    "#### Looks like it's basically those two columns. But first, let's normalize all column names (so it's easier to call when we need them)"
   ]
  },
  {
   "cell_type": "code",
   "execution_count": 9,
   "id": "4f34f493-0457-49b0-9f0e-736a7d1150a1",
   "metadata": {},
   "outputs": [],
   "source": [
    "mapdf.columns = mapdf.columns.str.lower()"
   ]
  },
  {
   "cell_type": "markdown",
   "id": "e0001e4d-4a5b-4cdd-8c8f-4a3cea7d63d0",
   "metadata": {},
   "source": [
    "#### Check to see what the values are for the columns with NaNs"
   ]
  },
  {
   "cell_type": "code",
   "execution_count": 10,
   "id": "22c8c676-c14e-47f4-9803-d67925427341",
   "metadata": {},
   "outputs": [
    {
     "data": {
      "text/plain": [
       "Felon killed in commission of a crime    11346\n",
       "Felon attacked police officer             9562\n",
       "Felon attacked a civilian                 5633\n",
       "Not enough information to determine       2581\n",
       "Felon resisted arrest                     1314\n",
       "Felon attacked fellow police officer      1098\n",
       "Felon attempted flight from a crime        917\n",
       "Name: subcircum, dtype: int64"
      ]
     },
     "execution_count": 10,
     "metadata": {},
     "output_type": "execute_result"
    }
   ],
   "source": [
    "mapdf['subcircum'].value_counts()"
   ]
  },
  {
   "cell_type": "code",
   "execution_count": 11,
   "id": "3f9246cc-94a7-4546-99ff-8eb9f6e53f1c",
   "metadata": {
    "tags": []
   },
   "outputs": [
    {
     "data": {
      "text/plain": [
       "FLA       2769\n",
       "CALIFO    2379\n",
       "TEXAS     2140\n",
       "ILLINO    1072\n",
       "MICHIG     848\n",
       "NORTH      846\n",
       "NEW YO     820\n",
       "OHIO       787\n",
       "TENNES     747\n",
       "LOUISI     734\n",
       "SOUTH      640\n",
       "MISSOU     619\n",
       "GEORGI     606\n",
       "VIRGIN     584\n",
       "INDIAN     546\n",
       "ARIZON     523\n",
       "MARYLA     513\n",
       "WISCON     423\n",
       "KENTUC     366\n",
       "OKLAHO     363\n",
       "COLORA     349\n",
       "ARKANS     340\n",
       "WASHIN     337\n",
       "NEW JE     336\n",
       "PENNSY     272\n",
       "MISSIS     237\n",
       "MINNES     230\n",
       "DISTRI     216\n",
       "NEVADA     206\n",
       "OREGON     173\n",
       "MASSAC     167\n",
       "CONNEC     161\n",
       "NEW ME     154\n",
       "IOWA       124\n",
       "WEST V     120\n",
       "UTAH       112\n",
       "KANSAS      95\n",
       "DELAWA      79\n",
       "MONTAN      69\n",
       "NEBRAS      67\n",
       "ALASKA      56\n",
       "IDAHO       49\n",
       "HAWAII      42\n",
       "RHODE       32\n",
       "MAINE       29\n",
       "ALABAM      24\n",
       "NEW HA      24\n",
       "WYOMIN      20\n",
       "VERMON      18\n",
       "FEDERA       4\n",
       "FLORID       1\n",
       "Name: statename, dtype: int64"
      ]
     },
     "execution_count": 11,
     "metadata": {},
     "output_type": "execute_result"
    }
   ],
   "source": [
    "mapdf['statename'].value_counts()"
   ]
  },
  {
   "cell_type": "markdown",
   "id": "5d32122b-0a8a-4f24-8781-cc048baee11f",
   "metadata": {},
   "source": [
    "#### Looks like the statename column can be dropped."
   ]
  },
  {
   "cell_type": "code",
   "execution_count": 12,
   "id": "25901504-7c3e-4b22-aae9-40e41e40395b",
   "metadata": {},
   "outputs": [],
   "source": [
    "mapdf.drop(columns = 'statename', inplace=True)"
   ]
  },
  {
   "cell_type": "markdown",
   "id": "cbdec94b-b5a1-4361-a8ff-4eebec8e65e5",
   "metadata": {},
   "source": [
    "#### Check the dataset again..."
   ]
  },
  {
   "cell_type": "code",
   "execution_count": 13,
   "id": "b2542d7e-63de-4dae-86f7-6c0644cf2cb2",
   "metadata": {
    "tags": []
   },
   "outputs": [
    {
     "name": "stdout",
     "output_type": "stream",
     "text": [
      "<class 'pandas.core.frame.DataFrame'>\n",
      "RangeIndex: 827219 entries, 0 to 827218\n",
      "Data columns (total 33 columns):\n",
      " #   Column        Non-Null Count   Dtype         \n",
      "---  ------        --------------   -----         \n",
      " 0   id            827219 non-null  object        \n",
      " 1   cntyfips      827219 non-null  object        \n",
      " 2   ori           827219 non-null  object        \n",
      " 3   state         827219 non-null  object        \n",
      " 4   agency        827219 non-null  object        \n",
      " 5   agentype      827219 non-null  object        \n",
      " 6   source        827219 non-null  object        \n",
      " 7   solved        827219 non-null  object        \n",
      " 8   year          827219 non-null  int64         \n",
      " 9   month         827219 non-null  object        \n",
      " 10  incident      827219 non-null  int64         \n",
      " 11  actiontype    827219 non-null  object        \n",
      " 12  homicide      827219 non-null  object        \n",
      " 13  situation     827219 non-null  object        \n",
      " 14  vicage        827219 non-null  int64         \n",
      " 15  vicsex        827219 non-null  object        \n",
      " 16  vicrace       827219 non-null  object        \n",
      " 17  vicethnic     827219 non-null  object        \n",
      " 18  offage        827219 non-null  int64         \n",
      " 19  offsex        827219 non-null  object        \n",
      " 20  offrace       827219 non-null  object        \n",
      " 21  offethnic     827219 non-null  object        \n",
      " 22  weapon        827219 non-null  object        \n",
      " 23  relationship  827219 non-null  object        \n",
      " 24  circumstance  827219 non-null  object        \n",
      " 25  subcircum     32451 non-null   object        \n",
      " 26  viccount      827219 non-null  int64         \n",
      " 27  offcount      827219 non-null  int64         \n",
      " 28  filedate      824709 non-null  float64       \n",
      " 29  msa           827219 non-null  object        \n",
      " 30  year_str      827219 non-null  object        \n",
      " 31  monthyear     827219 non-null  object        \n",
      " 32  datetime      827219 non-null  datetime64[ns]\n",
      "dtypes: datetime64[ns](1), float64(1), int64(6), object(25)\n",
      "memory usage: 208.3+ MB\n"
     ]
    }
   ],
   "source": [
    "mapdf.info()"
   ]
  },
  {
   "cell_type": "markdown",
   "id": "174b6dfe-e44f-475f-bdb2-481b7a297e5b",
   "metadata": {},
   "source": [
    "#### Any other NAs in the dataset?"
   ]
  },
  {
   "cell_type": "code",
   "execution_count": 14,
   "id": "7685a133-ef3b-435d-8acd-3029f8e8207d",
   "metadata": {
    "tags": []
   },
   "outputs": [
    {
     "data": {
      "text/plain": [
       "id                   0\n",
       "cntyfips             0\n",
       "ori                  0\n",
       "state                0\n",
       "agency               0\n",
       "agentype             0\n",
       "source               0\n",
       "solved               0\n",
       "year                 0\n",
       "month                0\n",
       "incident             0\n",
       "actiontype           0\n",
       "homicide             0\n",
       "situation            0\n",
       "vicage               0\n",
       "vicsex               0\n",
       "vicrace              0\n",
       "vicethnic            0\n",
       "offage               0\n",
       "offsex               0\n",
       "offrace              0\n",
       "offethnic            0\n",
       "weapon               0\n",
       "relationship         0\n",
       "circumstance         0\n",
       "subcircum       794768\n",
       "viccount             0\n",
       "offcount             0\n",
       "filedate          2510\n",
       "msa                  0\n",
       "year_str             0\n",
       "monthyear            0\n",
       "datetime             0\n",
       "dtype: int64"
      ]
     },
     "execution_count": 14,
     "metadata": {},
     "output_type": "execute_result"
    }
   ],
   "source": [
    "mapdf.isna().sum()"
   ]
  },
  {
   "cell_type": "markdown",
   "id": "607b3b75-d5de-435a-aa91-283d10477224",
   "metadata": {},
   "source": [
    "#### Dropping subcircum"
   ]
  },
  {
   "cell_type": "code",
   "execution_count": 15,
   "id": "aafe5e7e-885a-47fb-b7b9-ef3406bffac8",
   "metadata": {},
   "outputs": [],
   "source": [
    "mapdf.drop(columns = 'subcircum', inplace=True)"
   ]
  },
  {
   "cell_type": "markdown",
   "id": "715c6a7c-ab4c-4c72-b9db-cb03e79f976e",
   "metadata": {},
   "source": [
    "#### There are a few more NAs in filedate."
   ]
  },
  {
   "cell_type": "code",
   "execution_count": 16,
   "id": "cf89c267-d3f6-4fca-90bc-320a5e9b0171",
   "metadata": {},
   "outputs": [
    {
     "data": {
      "text/plain": [
       "0          30180.0\n",
       "1          30180.0\n",
       "2          30180.0\n",
       "3          30180.0\n",
       "4          30180.0\n",
       "            ...   \n",
       "827214    121482.0\n",
       "827215     61987.0\n",
       "827216     22795.0\n",
       "827217     90704.0\n",
       "827218     81711.0\n",
       "Name: filedate, Length: 827219, dtype: float64"
      ]
     },
     "execution_count": 16,
     "metadata": {},
     "output_type": "execute_result"
    }
   ],
   "source": [
    "mapdf['filedate']"
   ]
  },
  {
   "cell_type": "markdown",
   "id": "9d835f10-57ce-4dc0-b72a-daad8fbbe1b7",
   "metadata": {},
   "source": [
    "#### Not really sure why these are numbered like that. Maybe we can drop it."
   ]
  },
  {
   "cell_type": "code",
   "execution_count": 17,
   "id": "549d3ea8-1096-4346-9efe-40028ea357b4",
   "metadata": {},
   "outputs": [],
   "source": [
    "mapdf.drop(columns = 'filedate', inplace=True)"
   ]
  },
  {
   "cell_type": "markdown",
   "id": "8f823cf2-cfe8-485e-a315-b09516fc35bd",
   "metadata": {},
   "source": [
    "#### Cool. Now let's check out the stats of this dataset."
   ]
  },
  {
   "cell_type": "code",
   "execution_count": 18,
   "id": "517d2694-37bc-4e3b-9e93-fdedcdfb4d9a",
   "metadata": {
    "tags": []
   },
   "outputs": [
    {
     "data": {
      "text/html": [
       "<div>\n",
       "<style scoped>\n",
       "    .dataframe tbody tr th:only-of-type {\n",
       "        vertical-align: middle;\n",
       "    }\n",
       "\n",
       "    .dataframe tbody tr th {\n",
       "        vertical-align: top;\n",
       "    }\n",
       "\n",
       "    .dataframe thead th {\n",
       "        text-align: right;\n",
       "    }\n",
       "</style>\n",
       "<table border=\"1\" class=\"dataframe\">\n",
       "  <thead>\n",
       "    <tr style=\"text-align: right;\">\n",
       "      <th></th>\n",
       "      <th>year</th>\n",
       "      <th>incident</th>\n",
       "      <th>vicage</th>\n",
       "      <th>offage</th>\n",
       "      <th>viccount</th>\n",
       "      <th>offcount</th>\n",
       "    </tr>\n",
       "  </thead>\n",
       "  <tbody>\n",
       "    <tr>\n",
       "      <th>count</th>\n",
       "      <td>827219.000000</td>\n",
       "      <td>827219.000000</td>\n",
       "      <td>827219.000000</td>\n",
       "      <td>827219.000000</td>\n",
       "      <td>827219.000000</td>\n",
       "      <td>827219.000000</td>\n",
       "    </tr>\n",
       "    <tr>\n",
       "      <th>mean</th>\n",
       "      <td>1996.991040</td>\n",
       "      <td>28.947475</td>\n",
       "      <td>47.540888</td>\n",
       "      <td>352.717006</td>\n",
       "      <td>0.128523</td>\n",
       "      <td>0.185658</td>\n",
       "    </tr>\n",
       "    <tr>\n",
       "      <th>std</th>\n",
       "      <td>13.008957</td>\n",
       "      <td>110.180594</td>\n",
       "      <td>118.824307</td>\n",
       "      <td>456.035658</td>\n",
       "      <td>0.564474</td>\n",
       "      <td>0.596206</td>\n",
       "    </tr>\n",
       "    <tr>\n",
       "      <th>min</th>\n",
       "      <td>1976.000000</td>\n",
       "      <td>0.000000</td>\n",
       "      <td>0.000000</td>\n",
       "      <td>0.000000</td>\n",
       "      <td>0.000000</td>\n",
       "      <td>0.000000</td>\n",
       "    </tr>\n",
       "    <tr>\n",
       "      <th>25%</th>\n",
       "      <td>1986.000000</td>\n",
       "      <td>1.000000</td>\n",
       "      <td>22.000000</td>\n",
       "      <td>24.000000</td>\n",
       "      <td>0.000000</td>\n",
       "      <td>0.000000</td>\n",
       "    </tr>\n",
       "    <tr>\n",
       "      <th>50%</th>\n",
       "      <td>1996.000000</td>\n",
       "      <td>2.000000</td>\n",
       "      <td>30.000000</td>\n",
       "      <td>38.000000</td>\n",
       "      <td>0.000000</td>\n",
       "      <td>0.000000</td>\n",
       "    </tr>\n",
       "    <tr>\n",
       "      <th>75%</th>\n",
       "      <td>2008.000000</td>\n",
       "      <td>10.000000</td>\n",
       "      <td>42.000000</td>\n",
       "      <td>999.000000</td>\n",
       "      <td>0.000000</td>\n",
       "      <td>0.000000</td>\n",
       "    </tr>\n",
       "    <tr>\n",
       "      <th>max</th>\n",
       "      <td>2020.000000</td>\n",
       "      <td>999.000000</td>\n",
       "      <td>999.000000</td>\n",
       "      <td>999.000000</td>\n",
       "      <td>21.000000</td>\n",
       "      <td>40.000000</td>\n",
       "    </tr>\n",
       "  </tbody>\n",
       "</table>\n",
       "</div>"
      ],
      "text/plain": [
       "                year       incident         vicage         offage  \\\n",
       "count  827219.000000  827219.000000  827219.000000  827219.000000   \n",
       "mean     1996.991040      28.947475      47.540888     352.717006   \n",
       "std        13.008957     110.180594     118.824307     456.035658   \n",
       "min      1976.000000       0.000000       0.000000       0.000000   \n",
       "25%      1986.000000       1.000000      22.000000      24.000000   \n",
       "50%      1996.000000       2.000000      30.000000      38.000000   \n",
       "75%      2008.000000      10.000000      42.000000     999.000000   \n",
       "max      2020.000000     999.000000     999.000000     999.000000   \n",
       "\n",
       "            viccount       offcount  \n",
       "count  827219.000000  827219.000000  \n",
       "mean        0.128523       0.185658  \n",
       "std         0.564474       0.596206  \n",
       "min         0.000000       0.000000  \n",
       "25%         0.000000       0.000000  \n",
       "50%         0.000000       0.000000  \n",
       "75%         0.000000       0.000000  \n",
       "max        21.000000      40.000000  "
      ]
     },
     "execution_count": 18,
     "metadata": {},
     "output_type": "execute_result"
    }
   ],
   "source": [
    "mapdf.describe()"
   ]
  },
  {
   "cell_type": "markdown",
   "id": "5f3c5e45-dbb1-4055-856d-0509abbd0c85",
   "metadata": {},
   "source": [
    "#### Wow, victim ages go up to 999? This must be a fill-in number. Just how many 999s are there? "
   ]
  },
  {
   "cell_type": "code",
   "execution_count": 19,
   "id": "bae93a77-4f6f-407b-88c3-eb9bd68ad82f",
   "metadata": {},
   "outputs": [
    {
     "data": {
      "text/plain": [
       "22    29371\n",
       "25    29310\n",
       "21    28976\n",
       "20    28837\n",
       "23    28794\n",
       "      ...  \n",
       "99      148\n",
       "95      115\n",
       "96       56\n",
       "97       55\n",
       "98       37\n",
       "Name: vicage, Length: 101, dtype: int64"
      ]
     },
     "execution_count": 19,
     "metadata": {},
     "output_type": "execute_result"
    }
   ],
   "source": [
    "mapdf['vicage'].value_counts().sort_values(ascending = False)"
   ]
  },
  {
   "cell_type": "markdown",
   "id": "c79b3968-fd0e-4027-b806-497fe0886a12",
   "metadata": {},
   "source": [
    "#### That's not quite helpful. What about this?"
   ]
  },
  {
   "cell_type": "code",
   "execution_count": 20,
   "id": "f87782ab-51f7-4d9d-b5de-dbd6cd90a422",
   "metadata": {},
   "outputs": [
    {
     "data": {
      "text/plain": [
       "12476"
      ]
     },
     "execution_count": 20,
     "metadata": {},
     "output_type": "execute_result"
    }
   ],
   "source": [
    "mapdf['vicage'].value_counts()[999]"
   ]
  },
  {
   "cell_type": "markdown",
   "id": "026d45f7-3667-4180-8e8c-f98820154c63",
   "metadata": {},
   "source": [
    "#### Okay, so 999 occurs 12,476 times. That's not good. How can we solve this?"
   ]
  },
  {
   "cell_type": "code",
   "execution_count": 21,
   "id": "484e94dd-1a0e-4de2-8632-24ed6e69760c",
   "metadata": {},
   "outputs": [
    {
     "data": {
      "text/plain": [
       "10416"
      ]
     },
     "execution_count": 21,
     "metadata": {},
     "output_type": "execute_result"
    }
   ],
   "source": [
    "mapdf['vicage'].value_counts()[0]"
   ]
  },
  {
   "cell_type": "markdown",
   "id": "a61fe3fb-8536-4e62-bb8d-0719d9c2643e",
   "metadata": {},
   "source": [
    "#### And the vicage as 0 happens 10,416 times. I suppose it can be true if they were less than a year old, but I can also believe that the majority are incorrect. "
   ]
  },
  {
   "cell_type": "code",
   "execution_count": 22,
   "id": "1320c6fa-ce11-429d-984b-17cee7b4f689",
   "metadata": {},
   "outputs": [
    {
     "data": {
      "text/plain": [
       "148"
      ]
     },
     "execution_count": 22,
     "metadata": {},
     "output_type": "execute_result"
    }
   ],
   "source": [
    "mapdf['vicage'].value_counts()[99]"
   ]
  },
  {
   "cell_type": "code",
   "execution_count": 23,
   "id": "7710117a-074b-4e93-b76c-f6fb2db819cc",
   "metadata": {},
   "outputs": [
    {
     "data": {
      "text/plain": [
       "Index(['id', 'cntyfips', 'ori', 'state', 'agency', 'agentype', 'source',\n",
       "       'solved', 'year', 'month', 'incident', 'actiontype', 'homicide',\n",
       "       'situation', 'vicage', 'vicsex', 'vicrace', 'vicethnic', 'offage',\n",
       "       'offsex', 'offrace', 'offethnic', 'weapon', 'relationship',\n",
       "       'circumstance', 'viccount', 'offcount', 'msa', 'year_str', 'monthyear',\n",
       "       'datetime'],\n",
       "      dtype='object')"
      ]
     },
     "execution_count": 23,
     "metadata": {},
     "output_type": "execute_result"
    }
   ],
   "source": [
    "mapdf.columns"
   ]
  },
  {
   "cell_type": "markdown",
   "id": "9e6e5944-296c-4766-83b3-2a98784807b9",
   "metadata": {},
   "source": [
    "#### Thought I could cross the age with some other column to see if the zeroes were incorrect ages."
   ]
  },
  {
   "cell_type": "code",
   "execution_count": 24,
   "id": "a0783fd1-44b8-4330-bd90-1c56abb4b009",
   "metadata": {
    "tags": []
   },
   "outputs": [
    {
     "data": {
      "text/plain": [
       "vicage  relationship               \n",
       "0       Son                            3745\n",
       "        Daughter                       3098\n",
       "        Relationship not determined    1392\n",
       "        Other - known to victim         830\n",
       "        Acquaintance                    516\n",
       "        Other family                    331\n",
       "        Stranger                        112\n",
       "        Stepson                          72\n",
       "        Friend                           71\n",
       "        Stepdaughter                     56\n",
       "        Girlfriend                       35\n",
       "        Wife                             27\n",
       "        Neighbor                         26\n",
       "        Brother                          25\n",
       "        Mother                           19\n",
       "        Father                           18\n",
       "        Sister                           16\n",
       "        Common-law wife                   6\n",
       "        Stepfather                        5\n",
       "        Husband                           3\n",
       "        Boyfriend                         3\n",
       "        Homosexual relationship           2\n",
       "        Ex-wife                           2\n",
       "        Employee                          2\n",
       "        In-law                            2\n",
       "        Stepmother                        1\n",
       "        Common-law husband                1\n",
       "dtype: int64"
      ]
     },
     "execution_count": 24,
     "metadata": {},
     "output_type": "execute_result"
    }
   ],
   "source": [
    "mapdf[mapdf['vicage']==0][['vicage','relationship']].value_counts()"
   ]
  },
  {
   "cell_type": "code",
   "execution_count": 25,
   "id": "a04b0484-d791-4d23-a76c-11681e6d8c17",
   "metadata": {
    "tags": []
   },
   "outputs": [
    {
     "data": {
      "text/plain": [
       "vicage  relationship               \n",
       "999     Relationship not determined    7846\n",
       "        Acquaintance                   1339\n",
       "        Stranger                       1176\n",
       "        Son                             375\n",
       "        Other - known to victim         329\n",
       "        Daughter                        328\n",
       "        Friend                          192\n",
       "        Wife                            162\n",
       "        Girlfriend                      131\n",
       "        Other family                    128\n",
       "        Husband                          73\n",
       "        Neighbor                         60\n",
       "        Boyfriend                        54\n",
       "        Mother                           39\n",
       "        Brother                          37\n",
       "        In-law                           36\n",
       "        Father                           35\n",
       "        Common-law wife                  30\n",
       "        Ex-wife                          24\n",
       "        Common-law husband               24\n",
       "        Homosexual relationship          11\n",
       "        Stepson                          10\n",
       "        Stepdaughter                     10\n",
       "        Stepfather                        7\n",
       "        Ex-husband                        7\n",
       "        Employee                          6\n",
       "        Sister                            4\n",
       "        Employer                          2\n",
       "        Stepmother                        1\n",
       "dtype: int64"
      ]
     },
     "execution_count": 25,
     "metadata": {},
     "output_type": "execute_result"
    }
   ],
   "source": [
    "mapdf[mapdf['vicage']==999][['vicage','relationship']].value_counts()"
   ]
  },
  {
   "cell_type": "markdown",
   "id": "81f424d9-d556-412f-b637-e1b2dd5ce96f",
   "metadata": {},
   "source": [
    "#### Checking to see what the age distribution looks like! "
   ]
  },
  {
   "cell_type": "code",
   "execution_count": 148,
   "id": "d4d24c84-6b55-485d-9e6c-f3c6123e1ba6",
   "metadata": {},
   "outputs": [
    {
     "data": {
      "image/png": "[encoded data removed]",
      "text/plain": [
       "<Figure size 1800x720 with 1 Axes>"
      ]
     },
     "metadata": {
      "needs_background": "light"
     },
     "output_type": "display_data"
    }
   ],
   "source": [
    "mapdf['vicage'].value_counts().plot(kind = 'bar',\n",
    "                                  figsize = (25,10),\n",
    "                                  xlabel = 'Victim Age',\n",
    "                                  ylabel = 'Count of age',\n",
    "                                  title = 'Total number of Victim Age from Dataset');"
   ]
  },
  {
   "cell_type": "code",
   "execution_count": 149,
   "id": "cd9ffa59-a43d-4276-a213-1a37eee08fe0",
   "metadata": {},
   "outputs": [
    {
     "data": {
      "image/png": "[encoded data removed]",
      "text/plain": [
       "<Figure size 1800x720 with 1 Axes>"
      ]
     },
     "metadata": {
      "needs_background": "light"
     },
     "output_type": "display_data"
    }
   ],
   "source": [
    "mapdf['offage'].value_counts().plot(kind = 'bar',\n",
    "                                  figsize = (25,10),\n",
    "                                  xlabel = 'Offender Age',\n",
    "                                  ylabel = 'Count of age',\n",
    "                                  title = 'Total number of Offender Age from Dataset');"
   ]
  },
  {
   "cell_type": "markdown",
   "id": "d7df3558-d642-49fc-8fda-e700e2dc955c",
   "metadata": {},
   "source": [
    "Yikes. 999 age? We need to fix that."
   ]
  },
  {
   "cell_type": "markdown",
   "id": "c94fa785-30f3-47d3-9817-0e9592ce757c",
   "metadata": {
    "tags": []
   },
   "source": [
    "#### Checking to see what the state distribution looks like! "
   ]
  },
  {
   "cell_type": "code",
   "execution_count": 147,
   "id": "d353dd0b-f0d7-4321-a973-ffdf384ac074",
   "metadata": {},
   "outputs": [
    {
     "data": {
      "image/png": "[encoded data removed]",
      "text/plain": [
       "<Figure size 1152x576 with 1 Axes>"
      ]
     },
     "metadata": {
      "needs_background": "light"
     },
     "output_type": "display_data"
    }
   ],
   "source": [
    "mapdf['state'].value_counts().plot(kind = 'bar',\n",
    "                                  figsize = (16,8),\n",
    "                                  xlabel = 'State',\n",
    "                                  ylabel = 'Count of incidents',\n",
    "                                  title = 'Total number of incidents from each State');"
   ]
  },
  {
   "cell_type": "code",
   "execution_count": 92,
   "id": "d544c5e3-8421-42f1-8242-7fb8ccbaac2d",
   "metadata": {},
   "outputs": [
    {
     "data": {
      "text/plain": [
       "Yes    583230\n",
       "No     243989\n",
       "Name: solved, dtype: int64"
      ]
     },
     "execution_count": 92,
     "metadata": {},
     "output_type": "execute_result"
    }
   ],
   "source": [
    "mapdf['solved'].value_counts()"
   ]
  },
  {
   "cell_type": "markdown",
   "id": "445b94cd-b061-4809-8917-5a2551063d32",
   "metadata": {
    "tags": []
   },
   "source": [
    "#### What about a stacked chart to see unsolved vs solved by state:"
   ]
  },
  {
   "cell_type": "code",
   "execution_count": 108,
   "id": "e6cf4787-b115-4cc2-96e8-4658019405a7",
   "metadata": {},
   "outputs": [
    {
     "data": {
      "image/png": "[encoded data removed]",
      "text/plain": [
       "<Figure size 2428x792 with 1 Axes>"
      ]
     },
     "metadata": {
      "needs_background": "light"
     },
     "output_type": "display_data"
    }
   ],
   "source": [
    "sns.catplot(data = mapdf,\n",
    "            x = 'state',\n",
    "            kind = 'count',\n",
    "            hue = 'solved',\n",
    "           height = 11,\n",
    "           aspect = 3)\n",
    "plt.xlabel('State')\n",
    "plt.ylabel('Count')\n",
    "plt.title('Unsolved vs. Solved Homicides by state')\n",
    "plt.xticks(rotation=40);"
   ]
  },
  {
   "cell_type": "code",
   "execution_count": 112,
   "id": "2cd18433-0461-4115-8fd1-78f8ab5ac30a",
   "metadata": {},
   "outputs": [
    {
     "data": {
      "text/plain": [
       "1976    17619\n",
       "1977    18844\n",
       "1978    19523\n",
       "1979    21698\n",
       "1980    23092\n",
       "1981    21208\n",
       "1982    20544\n",
       "1983    19653\n",
       "1984    18093\n",
       "1985    18386\n",
       "1986    20125\n",
       "1987    18783\n",
       "1988    18779\n",
       "1989    19868\n",
       "1990    21246\n",
       "1991    22657\n",
       "1992    23793\n",
       "1993    24337\n",
       "1994    23246\n",
       "1995    21194\n",
       "1996    18996\n",
       "1997    17830\n",
       "1998    16089\n",
       "1999    14644\n",
       "2000    14692\n",
       "2001    15821\n",
       "2002    16287\n",
       "2003    16532\n",
       "2004    16246\n",
       "2005    16852\n",
       "2006    17294\n",
       "2007    17327\n",
       "2008    16430\n",
       "2009    15857\n",
       "2010    15133\n",
       "2011    15119\n",
       "2012    15390\n",
       "2013    14841\n",
       "2014    14702\n",
       "2015    16358\n",
       "2016    18022\n",
       "2017    18712\n",
       "2018    17341\n",
       "2019    16836\n",
       "2020    21180\n",
       "Name: year, dtype: int64"
      ]
     },
     "execution_count": 112,
     "metadata": {},
     "output_type": "execute_result"
    }
   ],
   "source": [
    "mapdf['year'].value_counts().sort_index()"
   ]
  },
  {
   "cell_type": "markdown",
   "id": "65da126b-bd60-4aa0-85d9-d3ea86d31f6e",
   "metadata": {},
   "source": [
    "#### Copying a new dataframe to create a time index df:"
   ]
  },
  {
   "cell_type": "code",
   "execution_count": 27,
   "id": "dd4ac799-035c-44bd-9466-6ea434441bd1",
   "metadata": {},
   "outputs": [],
   "source": [
    "mapdf_time = mapdf.copy(deep = True)"
   ]
  },
  {
   "cell_type": "code",
   "execution_count": 28,
   "id": "7f84ee4f-0691-41ba-908c-88ba8ed8c041",
   "metadata": {},
   "outputs": [],
   "source": [
    "mapdf_time.set_index('datetime', inplace = True)"
   ]
  },
  {
   "cell_type": "code",
   "execution_count": 29,
   "id": "726b25e1-da68-4171-b04b-859cdf0d6589",
   "metadata": {},
   "outputs": [],
   "source": [
    "mapdf_time.sort_index(ascending = True, inplace = True)"
   ]
  },
  {
   "cell_type": "code",
   "execution_count": 30,
   "id": "63675904-e2ec-4a05-8599-358373046d86",
   "metadata": {
    "tags": []
   },
   "outputs": [
    {
     "data": {
      "text/html": [
       "<div>\n",
       "<style scoped>\n",
       "    .dataframe tbody tr th:only-of-type {\n",
       "        vertical-align: middle;\n",
       "    }\n",
       "\n",
       "    .dataframe tbody tr th {\n",
       "        vertical-align: top;\n",
       "    }\n",
       "\n",
       "    .dataframe thead th {\n",
       "        text-align: right;\n",
       "    }\n",
       "</style>\n",
       "<table border=\"1\" class=\"dataframe\">\n",
       "  <thead>\n",
       "    <tr style=\"text-align: right;\">\n",
       "      <th></th>\n",
       "      <th>id</th>\n",
       "      <th>cntyfips</th>\n",
       "      <th>ori</th>\n",
       "      <th>state</th>\n",
       "      <th>agency</th>\n",
       "      <th>agentype</th>\n",
       "      <th>source</th>\n",
       "      <th>solved</th>\n",
       "      <th>year</th>\n",
       "      <th>month</th>\n",
       "      <th>...</th>\n",
       "      <th>offrace</th>\n",
       "      <th>offethnic</th>\n",
       "      <th>weapon</th>\n",
       "      <th>relationship</th>\n",
       "      <th>circumstance</th>\n",
       "      <th>viccount</th>\n",
       "      <th>offcount</th>\n",
       "      <th>msa</th>\n",
       "      <th>year_str</th>\n",
       "      <th>monthyear</th>\n",
       "    </tr>\n",
       "    <tr>\n",
       "      <th>datetime</th>\n",
       "      <th></th>\n",
       "      <th></th>\n",
       "      <th></th>\n",
       "      <th></th>\n",
       "      <th></th>\n",
       "      <th></th>\n",
       "      <th></th>\n",
       "      <th></th>\n",
       "      <th></th>\n",
       "      <th></th>\n",
       "      <th></th>\n",
       "      <th></th>\n",
       "      <th></th>\n",
       "      <th></th>\n",
       "      <th></th>\n",
       "      <th></th>\n",
       "      <th></th>\n",
       "      <th></th>\n",
       "      <th></th>\n",
       "      <th></th>\n",
       "      <th></th>\n",
       "    </tr>\n",
       "  </thead>\n",
       "  <tbody>\n",
       "    <tr>\n",
       "      <th>1976-01-01</th>\n",
       "      <td>197601110NY03030</td>\n",
       "      <td>New York, NY</td>\n",
       "      <td>NY03030</td>\n",
       "      <td>New York</td>\n",
       "      <td>New York</td>\n",
       "      <td>Municipal police</td>\n",
       "      <td>FBI</td>\n",
       "      <td>No</td>\n",
       "      <td>1976</td>\n",
       "      <td>January</td>\n",
       "      <td>...</td>\n",
       "      <td>Unknown</td>\n",
       "      <td>Unknown or not reported</td>\n",
       "      <td>Handgun - pistol, revolver, etc</td>\n",
       "      <td>Relationship not determined</td>\n",
       "      <td>Felon killed by police</td>\n",
       "      <td>0</td>\n",
       "      <td>0</td>\n",
       "      <td>New York-New Jersey-Long Island, NY-NJ</td>\n",
       "      <td>1976</td>\n",
       "      <td>January-1976</td>\n",
       "    </tr>\n",
       "    <tr>\n",
       "      <th>1976-01-01</th>\n",
       "      <td>197601001AR05400</td>\n",
       "      <td>Phillips, AR</td>\n",
       "      <td>AR05400</td>\n",
       "      <td>Arkansas</td>\n",
       "      <td>Phillips County</td>\n",
       "      <td>Sheriff</td>\n",
       "      <td>FBI</td>\n",
       "      <td>Yes</td>\n",
       "      <td>1976</td>\n",
       "      <td>January</td>\n",
       "      <td>...</td>\n",
       "      <td>Black</td>\n",
       "      <td>Unknown or not reported</td>\n",
       "      <td>Shotgun</td>\n",
       "      <td>Stepfather</td>\n",
       "      <td>Other</td>\n",
       "      <td>0</td>\n",
       "      <td>0</td>\n",
       "      <td>Rural Arkansas</td>\n",
       "      <td>1976</td>\n",
       "      <td>January-1976</td>\n",
       "    </tr>\n",
       "    <tr>\n",
       "      <th>1976-01-01</th>\n",
       "      <td>197601001AR05401</td>\n",
       "      <td>Phillips, AR</td>\n",
       "      <td>AR05401</td>\n",
       "      <td>Arkansas</td>\n",
       "      <td>Helena</td>\n",
       "      <td>Municipal police</td>\n",
       "      <td>FBI</td>\n",
       "      <td>Yes</td>\n",
       "      <td>1976</td>\n",
       "      <td>January</td>\n",
       "      <td>...</td>\n",
       "      <td>White</td>\n",
       "      <td>Unknown or not reported</td>\n",
       "      <td>Handgun - pistol, revolver, etc</td>\n",
       "      <td>Ex-husband</td>\n",
       "      <td>Other arguments</td>\n",
       "      <td>0</td>\n",
       "      <td>0</td>\n",
       "      <td>Rural Arkansas</td>\n",
       "      <td>1976</td>\n",
       "      <td>January-1976</td>\n",
       "    </tr>\n",
       "    <tr>\n",
       "      <th>1976-01-01</th>\n",
       "      <td>197601002AR05400</td>\n",
       "      <td>Phillips, AR</td>\n",
       "      <td>AR05400</td>\n",
       "      <td>Arkansas</td>\n",
       "      <td>Phillips County</td>\n",
       "      <td>Sheriff</td>\n",
       "      <td>FBI</td>\n",
       "      <td>Yes</td>\n",
       "      <td>1976</td>\n",
       "      <td>January</td>\n",
       "      <td>...</td>\n",
       "      <td>White</td>\n",
       "      <td>Unknown or not reported</td>\n",
       "      <td>Handgun - pistol, revolver, etc</td>\n",
       "      <td>Ex-husband</td>\n",
       "      <td>Other</td>\n",
       "      <td>0</td>\n",
       "      <td>0</td>\n",
       "      <td>Rural Arkansas</td>\n",
       "      <td>1976</td>\n",
       "      <td>January-1976</td>\n",
       "    </tr>\n",
       "    <tr>\n",
       "      <th>1976-01-01</th>\n",
       "      <td>197601002FL04200</td>\n",
       "      <td>Marion, FL</td>\n",
       "      <td>FL04200</td>\n",
       "      <td>Florida</td>\n",
       "      <td>Marion County</td>\n",
       "      <td>Sheriff</td>\n",
       "      <td>FBI</td>\n",
       "      <td>Yes</td>\n",
       "      <td>1976</td>\n",
       "      <td>January</td>\n",
       "      <td>...</td>\n",
       "      <td>White</td>\n",
       "      <td>Unknown or not reported</td>\n",
       "      <td>Rifle</td>\n",
       "      <td>Relationship not determined</td>\n",
       "      <td>Other arguments</td>\n",
       "      <td>0</td>\n",
       "      <td>0</td>\n",
       "      <td>Ocala, FL</td>\n",
       "      <td>1976</td>\n",
       "      <td>January-1976</td>\n",
       "    </tr>\n",
       "  </tbody>\n",
       "</table>\n",
       "<p>5 rows × 30 columns</p>\n",
       "</div>"
      ],
      "text/plain": [
       "                          id      cntyfips      ori     state  \\\n",
       "datetime                                                        \n",
       "1976-01-01  197601110NY03030  New York, NY  NY03030  New York   \n",
       "1976-01-01  197601001AR05400  Phillips, AR  AR05400  Arkansas   \n",
       "1976-01-01  197601001AR05401  Phillips, AR  AR05401  Arkansas   \n",
       "1976-01-01  197601002AR05400  Phillips, AR  AR05400  Arkansas   \n",
       "1976-01-01  197601002FL04200    Marion, FL  FL04200   Florida   \n",
       "\n",
       "                     agency          agentype source solved  year    month  \\\n",
       "datetime                                                                     \n",
       "1976-01-01         New York  Municipal police    FBI     No  1976  January   \n",
       "1976-01-01  Phillips County           Sheriff    FBI    Yes  1976  January   \n",
       "1976-01-01           Helena  Municipal police    FBI    Yes  1976  January   \n",
       "1976-01-01  Phillips County           Sheriff    FBI    Yes  1976  January   \n",
       "1976-01-01    Marion County           Sheriff    FBI    Yes  1976  January   \n",
       "\n",
       "            ...  offrace                offethnic  \\\n",
       "datetime    ...                                     \n",
       "1976-01-01  ...  Unknown  Unknown or not reported   \n",
       "1976-01-01  ...    Black  Unknown or not reported   \n",
       "1976-01-01  ...    White  Unknown or not reported   \n",
       "1976-01-01  ...    White  Unknown or not reported   \n",
       "1976-01-01  ...    White  Unknown or not reported   \n",
       "\n",
       "                                     weapon                 relationship  \\\n",
       "datetime                                                                   \n",
       "1976-01-01  Handgun - pistol, revolver, etc  Relationship not determined   \n",
       "1976-01-01                          Shotgun                   Stepfather   \n",
       "1976-01-01  Handgun - pistol, revolver, etc                   Ex-husband   \n",
       "1976-01-01  Handgun - pistol, revolver, etc                   Ex-husband   \n",
       "1976-01-01                            Rifle  Relationship not determined   \n",
       "\n",
       "                      circumstance viccount offcount  \\\n",
       "datetime                                               \n",
       "1976-01-01  Felon killed by police        0        0   \n",
       "1976-01-01                   Other        0        0   \n",
       "1976-01-01         Other arguments        0        0   \n",
       "1976-01-01                   Other        0        0   \n",
       "1976-01-01         Other arguments        0        0   \n",
       "\n",
       "                                               msa  year_str     monthyear  \n",
       "datetime                                                                    \n",
       "1976-01-01  New York-New Jersey-Long Island, NY-NJ      1976  January-1976  \n",
       "1976-01-01                          Rural Arkansas      1976  January-1976  \n",
       "1976-01-01                          Rural Arkansas      1976  January-1976  \n",
       "1976-01-01                          Rural Arkansas      1976  January-1976  \n",
       "1976-01-01                               Ocala, FL      1976  January-1976  \n",
       "\n",
       "[5 rows x 30 columns]"
      ]
     },
     "execution_count": 30,
     "metadata": {},
     "output_type": "execute_result"
    }
   ],
   "source": [
    "mapdf_time.head()"
   ]
  },
  {
   "cell_type": "code",
   "execution_count": 123,
   "id": "c9903bfb-47ee-41d1-8c5a-951a86dcfbf2",
   "metadata": {
    "tags": []
   },
   "outputs": [
    {
     "data": {
      "image/png": "[encoded data removed]",
      "text/plain": [
       "<Figure size 864x648 with 1 Axes>"
      ]
     },
     "metadata": {
      "needs_background": "light"
     },
     "output_type": "display_data"
    }
   ],
   "source": [
    "mapdf_time.resample('Y').count().plot(y= ['incident'],\n",
    "                                     figsize = (12,9),\n",
    "                                     xlabel = 'date',\n",
    "                                     ylabel = 'incident count',\n",
    "                                     title = 'Incidents by year',\n",
    "                                     grid = True);"
   ]
  },
  {
   "cell_type": "code",
   "execution_count": 32,
   "id": "909ac517-b243-4a32-9a77-26f05035f2b4",
   "metadata": {},
   "outputs": [
    {
     "data": {
      "text/plain": [
       "agentype\n",
       "Municipal police    641556\n",
       "Sheriff             139930\n",
       "County police        23638\n",
       "Primary state LE     19746\n",
       "Special police        1568\n",
       "Tribal                 435\n",
       "Regional police        342\n",
       "4                        4\n",
       "Name: id, dtype: int64"
      ]
     },
     "execution_count": 32,
     "metadata": {},
     "output_type": "execute_result"
    }
   ],
   "source": [
    "mapdf.groupby('agentype')['id'].count().sort_values(ascending = False)"
   ]
  },
  {
   "cell_type": "code",
   "execution_count": 33,
   "id": "062a3bce-32ae-4142-9cce-4dfbc5ec7c72",
   "metadata": {
    "tags": []
   },
   "outputs": [
    {
     "data": {
      "text/plain": [
       "year\n",
       "1976    17619\n",
       "1977    18844\n",
       "1978    19523\n",
       "1979    21698\n",
       "1980    23092\n",
       "1981    21208\n",
       "1982    20544\n",
       "1983    19653\n",
       "1984    18093\n",
       "1985    18386\n",
       "1986    20125\n",
       "1987    18783\n",
       "1988    18779\n",
       "1989    19868\n",
       "1990    21246\n",
       "1991    22657\n",
       "1992    23793\n",
       "1993    24337\n",
       "1994    23246\n",
       "1995    21194\n",
       "1996    18996\n",
       "1997    17830\n",
       "1998    16089\n",
       "1999    14644\n",
       "2000    14692\n",
       "2001    15821\n",
       "2002    16287\n",
       "2003    16532\n",
       "2004    16246\n",
       "2005    16852\n",
       "2006    17294\n",
       "2007    17327\n",
       "2008    16430\n",
       "2009    15857\n",
       "2010    15133\n",
       "2011    15119\n",
       "2012    15390\n",
       "2013    14841\n",
       "2014    14702\n",
       "2015    16358\n",
       "2016    18022\n",
       "2017    18712\n",
       "2018    17341\n",
       "2019    16836\n",
       "2020    21180\n",
       "Name: id, dtype: int64"
      ]
     },
     "execution_count": 33,
     "metadata": {},
     "output_type": "execute_result"
    }
   ],
   "source": [
    "mapdf.groupby('year')['id'].count()"
   ]
  },
  {
   "cell_type": "code",
   "execution_count": null,
   "id": "3f324880-c8c2-45ed-8b8d-d1e71fee06a7",
   "metadata": {},
   "outputs": [
    {
     "data": {
      "image/png": "[encoded data removed]",
      "text/plain": [
       "<Figure size 864x504 with 1 Axes>"
      ]
     },
     "metadata": {
      "needs_background": "light"
     },
     "output_type": "display_data"
    }
   ],
   "source": [
    "mapdf.groupby('solved')['id'].count().plot(kind = 'bar',\n",
    "                                          figsize = (12,7),\n",
    "                                          ylabel = 'count',\n",
    "                                          title = 'Unsolved vs. Solved cases');"
   ]
  },
  {
   "cell_type": "markdown",
   "id": "49f57302-d989-42b5-8d86-675511f4368b",
   "metadata": {},
   "source": [
    "Realized I should also look at Unsolved cases as well: I guess this leads me to a few questions: \n",
    "1. What would happen if we look at just Unsolved cases? \n",
    "2. What would happen if we look at the entire dataset? \n",
    "3. What would happen if we look at just Solved cases? \n",
    "4. Would we see any changes in groupings? "
   ]
  },
  {
   "cell_type": "code",
   "execution_count": 35,
   "id": "fd3b26e5-dbb5-4db0-8a9c-db5b094f3beb",
   "metadata": {},
   "outputs": [],
   "source": [
    "unsolved_mapdf = mapdf.copy(deep = True)"
   ]
  },
  {
   "cell_type": "code",
   "execution_count": 36,
   "id": "a76d203a-1418-4566-9868-045d970d89b2",
   "metadata": {},
   "outputs": [],
   "source": [
    "unsolved_mapdf = unsolved_mapdf[unsolved_mapdf['solved'] == 'No']"
   ]
  },
  {
   "cell_type": "code",
   "execution_count": 37,
   "id": "abadd8d7-ffe5-4c04-bbe9-5e0c78132659",
   "metadata": {},
   "outputs": [],
   "source": [
    "unsolved_mapdftime = mapdf_time.copy(deep = True)"
   ]
  },
  {
   "cell_type": "code",
   "execution_count": 38,
   "id": "99d30b91-4ac7-4922-b46a-b615e7571d72",
   "metadata": {},
   "outputs": [],
   "source": [
    "unsolved_mapdftime = unsolved_mapdftime[unsolved_mapdftime['solved'] == 'No']"
   ]
  },
  {
   "cell_type": "code",
   "execution_count": 39,
   "id": "dee3db12-9c85-426b-b592-943080ebcc4e",
   "metadata": {},
   "outputs": [
    {
     "data": {
      "image/png": "[encoded data removed]",
      "text/plain": [
       "<Figure size 864x648 with 1 Axes>"
      ]
     },
     "metadata": {
      "needs_background": "light"
     },
     "output_type": "display_data"
    }
   ],
   "source": [
    "unsolved_mapdftime.resample('Y').count().plot(y= ['incident'],\n",
    "                                     figsize = (12,9),\n",
    "                                     xlabel = 'date',\n",
    "                                     ylabel = 'incident count',\n",
    "                                     title = 'Incidents by year',\n",
    "                                     grid = True);"
   ]
  },
  {
   "cell_type": "code",
   "execution_count": 40,
   "id": "802ac9e2-b5e1-4e73-9aab-334680ccc1c1",
   "metadata": {},
   "outputs": [
    {
     "data": {
      "text/plain": [
       "6449"
      ]
     },
     "execution_count": 40,
     "metadata": {},
     "output_type": "execute_result"
    }
   ],
   "source": [
    "unsolved_mapdftime['vicage'].value_counts()[999]"
   ]
  },
  {
   "cell_type": "code",
   "execution_count": 41,
   "id": "75bbcae7-25a2-4271-a32f-5680026c1ae4",
   "metadata": {},
   "outputs": [
    {
     "data": {
      "text/plain": [
       "1233"
      ]
     },
     "execution_count": 41,
     "metadata": {},
     "output_type": "execute_result"
    }
   ],
   "source": [
    "unsolved_mapdftime['vicage'].value_counts()[0]"
   ]
  },
  {
   "cell_type": "code",
   "execution_count": 42,
   "id": "072cd646-69b0-4818-b8e0-da4609f07058",
   "metadata": {},
   "outputs": [
    {
     "data": {
      "text/plain": [
       "243989"
      ]
     },
     "execution_count": 42,
     "metadata": {},
     "output_type": "execute_result"
    }
   ],
   "source": [
    "unsolved_mapdftime['vicage'].value_counts().sum()"
   ]
  },
  {
   "cell_type": "markdown",
   "id": "f1cc1f50-d590-4f70-b8ee-3de9b181b4d4",
   "metadata": {},
   "source": [
    "Let's look at the percentage of these 999 + 0 rows from the entire unsolved dataset."
   ]
  },
  {
   "cell_type": "code",
   "execution_count": 43,
   "id": "eacc0aa3-eb51-47c4-a403-44050c842cbc",
   "metadata": {},
   "outputs": [
    {
     "data": {
      "text/plain": [
       "2.6431519453745866"
      ]
     },
     "execution_count": 43,
     "metadata": {},
     "output_type": "execute_result"
    }
   ],
   "source": [
    "(unsolved_mapdftime['vicage'].value_counts()[999] / unsolved_mapdftime['vicage'].value_counts().sum())*100"
   ]
  },
  {
   "cell_type": "code",
   "execution_count": 44,
   "id": "e260895c-abd2-4874-aa27-4c0c66fd75c6",
   "metadata": {},
   "outputs": [
    {
     "data": {
      "text/plain": [
       "0.505350651053941"
      ]
     },
     "execution_count": 44,
     "metadata": {},
     "output_type": "execute_result"
    }
   ],
   "source": [
    "(unsolved_mapdftime['vicage'].value_counts()[0] / unsolved_mapdftime['vicage'].value_counts().sum())*100"
   ]
  },
  {
   "cell_type": "markdown",
   "id": "ea1617f2-3feb-4aee-9106-804d5aa28779",
   "metadata": {},
   "source": [
    "I don't think we should drop them, thought. Might end up losing out on some features that could help ID serial killers."
   ]
  },
  {
   "cell_type": "code",
   "execution_count": 45,
   "id": "79afed23-d227-4bb4-8e6f-5a9e6a05462f",
   "metadata": {
    "tags": []
   },
   "outputs": [
    {
     "data": {
      "text/plain": [
       "Handgun - pistol, revolver, etc         126268\n",
       "Firearm, type not stated                 34964\n",
       "Knife or cutting instrument              25042\n",
       "Other or type unknown                    17919\n",
       "Blunt object - hammer, club, etc         10957\n",
       "Personal weapons, includes beating        7998\n",
       "Shotgun                                   5769\n",
       "Strangulation - hanging                   4576\n",
       "Rifle                                     4487\n",
       "Fire                                      2548\n",
       "Other gun                                 1324\n",
       "Asphyxiation - includes death by gas      1196\n",
       "Narcotics or drugs, sleeping pills         357\n",
       "Drowning                                   270\n",
       "Explosives                                 184\n",
       "Poison - does not include gas               96\n",
       "Pushed or thrown out window                 34\n",
       "Name: weapon, dtype: int64"
      ]
     },
     "execution_count": 45,
     "metadata": {},
     "output_type": "execute_result"
    }
   ],
   "source": [
    "unsolved_mapdftime['weapon'].value_counts()"
   ]
  },
  {
   "cell_type": "code",
   "execution_count": 46,
   "id": "48af898d-3bd2-454a-a038-2fbcde22678a",
   "metadata": {},
   "outputs": [
    {
     "data": {
      "text/plain": [
       "Index(['id', 'cntyfips', 'ori', 'state', 'agency', 'agentype', 'source',\n",
       "       'solved', 'year', 'month', 'incident', 'actiontype', 'homicide',\n",
       "       'situation', 'vicage', 'vicsex', 'vicrace', 'vicethnic', 'offage',\n",
       "       'offsex', 'offrace', 'offethnic', 'weapon', 'relationship',\n",
       "       'circumstance', 'viccount', 'offcount', 'msa', 'year_str', 'monthyear'],\n",
       "      dtype='object')"
      ]
     },
     "execution_count": 46,
     "metadata": {},
     "output_type": "execute_result"
    }
   ],
   "source": [
    "unsolved_mapdftime.columns"
   ]
  },
  {
   "cell_type": "markdown",
   "id": "909376ca-7fd9-4ef2-b169-bf6afb8da97d",
   "metadata": {},
   "source": [
    "Realized the dataset has no identity of what the offender would be because:\n",
    "1. It's unsolved\n",
    "2. No one knows who it is\n",
    "3. What exactly is the predictor variable then? \n",
    "4. Is it possible to use a multiple of y to start classifiers?\n",
    "5. Should I use the solved dataset to start to get the clustering first (train set?)"
   ]
  },
  {
   "cell_type": "code",
   "execution_count": 48,
   "id": "a862ab84-0cb4-4b90-9818-19a7a931e0ee",
   "metadata": {},
   "outputs": [],
   "source": [
    "solved_mapdf = mapdf.copy(deep = True)\n",
    "solved_mapdf = solved_mapdf[solved_mapdf['solved'] == 'Yes']"
   ]
  },
  {
   "cell_type": "code",
   "execution_count": 49,
   "id": "58d57f5d-9bba-4b88-9d33-2d8fc17031b0",
   "metadata": {},
   "outputs": [
    {
     "data": {
      "text/plain": [
       "White                                  282058\n",
       "Black                                  280028\n",
       "Unknown                                  8805\n",
       "Asian                                    7219\n",
       "American Indian or Alaskan Native        5001\n",
       "Native Hawaiian or Pacific Islander       119\n",
       "Name: offrace, dtype: int64"
      ]
     },
     "execution_count": 49,
     "metadata": {},
     "output_type": "execute_result"
    }
   ],
   "source": [
    "solved_mapdf['offrace'].value_counts() # Reset index"
   ]
  },
  {
   "cell_type": "code",
   "execution_count": 50,
   "id": "80bc094d-0b27-4cc6-a6d3-a8640b5571ce",
   "metadata": {},
   "outputs": [
    {
     "data": {
      "text/plain": [
       "Unknown                              243358\n",
       "Black                                   338\n",
       "White                                   256\n",
       "Asian                                    28\n",
       "American Indian or Alaskan Native         9\n",
       "Name: offrace, dtype: int64"
      ]
     },
     "execution_count": 50,
     "metadata": {},
     "output_type": "execute_result"
    }
   ],
   "source": [
    "unsolved_mapdf['offrace'].value_counts()"
   ]
  },
  {
   "cell_type": "code",
   "execution_count": 51,
   "id": "e94f286d-34b5-4683-bf87-cf200f678dcc",
   "metadata": {},
   "outputs": [
    {
     "data": {
      "text/plain": [
       "31"
      ]
     },
     "execution_count": 51,
     "metadata": {},
     "output_type": "execute_result"
    }
   ],
   "source": [
    "solved_mapdf['offage'].value_counts()[3]"
   ]
  },
  {
   "cell_type": "code",
   "execution_count": 52,
   "id": "d171c763-42fb-42f1-9d42-22691a8a2d5c",
   "metadata": {},
   "outputs": [],
   "source": [
    "# predicting with two -- use two algorithms\n",
    "# use offage -- use imputation for 999 and 0 -- look at murder age >= 16\n",
    "# make two separate models: predict Age, predict ethnicity. Drop offage & offeth from both X \n",
    "\n",
    "# clustering algorithm on unsolved cases <- are there patterns in the dataset -- geo region / similar murder\n",
    "# process data - scale\n",
    "# kmeans / dbscan. kmeans need to specify X serial killers. Optimal number of clusters\n",
    "# dbscan -- needs distance around each murder & min number to be a serial killer (textbook def?) "
   ]
  },
  {
   "cell_type": "code",
   "execution_count": 53,
   "id": "4ab8d490-35ab-4173-9cab-185abaa32ff7",
   "metadata": {},
   "outputs": [
    {
     "data": {
      "text/plain": [
       "Index(['id', 'cntyfips', 'ori', 'state', 'agency', 'agentype', 'source',\n",
       "       'solved', 'year', 'month', 'incident', 'actiontype', 'homicide',\n",
       "       'situation', 'vicage', 'vicsex', 'vicrace', 'vicethnic', 'offage',\n",
       "       'offsex', 'offrace', 'offethnic', 'weapon', 'relationship',\n",
       "       'circumstance', 'viccount', 'offcount', 'msa', 'year_str', 'monthyear',\n",
       "       'datetime'],\n",
       "      dtype='object')"
      ]
     },
     "execution_count": 53,
     "metadata": {},
     "output_type": "execute_result"
    }
   ],
   "source": [
    "unsolved_mapdf.columns"
   ]
  },
  {
   "cell_type": "code",
   "execution_count": 54,
   "id": "7fdcd39c-fc3c-47c3-bb39-6453795ce88f",
   "metadata": {},
   "outputs": [],
   "source": [
    "solved_mapdf.columns"
   ]
  },
  {
   "cell_type": "code",
   "execution_count": 55,
   "id": "e3a5e125-b360-4123-80f7-c2638c014e00",
   "metadata": {},
   "outputs": [
    {
     "data": {
      "text/plain": [
       "White                                  282058\n",
       "Black                                  280028\n",
       "Unknown                                  8805\n",
       "Asian                                    7219\n",
       "American Indian or Alaskan Native        5001\n",
       "Native Hawaiian or Pacific Islander       119\n",
       "Name: offrace, dtype: int64"
      ]
     },
     "execution_count": 55,
     "metadata": {},
     "output_type": "execute_result"
    }
   ],
   "source": [
    "solved_mapdf['offrace'].value_counts()"
   ]
  },
  {
   "cell_type": "markdown",
   "id": "30f3001a-a272-45d1-924e-6badaf1f6354",
   "metadata": {},
   "source": [
    "Here, offender's race is converted into integer cat"
   ]
  },
  {
   "cell_type": "code",
   "execution_count": 56,
   "id": "e5d9d77b-e26a-4ed1-a95d-9b42456b050d",
   "metadata": {},
   "outputs": [],
   "source": [
    "race_dict = {'White':0,\n",
    "            'Black': 1,\n",
    "            'Unknown': 2,\n",
    "            'Asian': 3, \n",
    "            'American Indian or Alaskan Native': 4,\n",
    "            'Native Hawaiian or Pacific Islander':5\n",
    "            }"
   ]
  },
  {
   "cell_type": "code",
   "execution_count": 57,
   "id": "21d66bdb-571a-4f13-bc55-d3608d526df0",
   "metadata": {},
   "outputs": [],
   "source": [
    "solved_mapdf['offrace_ohe'] = solved_mapdf['offrace'].map( race_dict)"
   ]
  },
  {
   "cell_type": "markdown",
   "id": "5a4b92e7-ec1e-4741-b9eb-8724e89492ae",
   "metadata": {},
   "source": [
    "#### We should impute the data (take the mean?)"
   ]
  },
  {
   "cell_type": "code",
   "execution_count": 58,
   "id": "c370253b-e643-46e5-9ab7-00c43bfb1c29",
   "metadata": {},
   "outputs": [],
   "source": [
    "X = solved_mapdf.drop(columns = ['offrace', 'id', 'cntyfips', 'ori', 'circumstance', 'msa', 'year_str', 'monthyear', 'actiontype', 'agency', 'agentype', 'source', 'solved', 'datetime', 'offrace_ohe', 'offrace'])\n",
    "y = solved_mapdf['offrace_ohe']"
   ]
  },
  {
   "cell_type": "code",
   "execution_count": 59,
   "id": "452cdd76-9ffa-4cf5-a7af-91e875d0c3cf",
   "metadata": {},
   "outputs": [
    {
     "data": {
      "text/plain": [
       "999    32475\n",
       "20     26864\n",
       "19     25162\n",
       "21     24177\n",
       "22     23786\n",
       "       ...  \n",
       "95        13\n",
       "96        10\n",
       "98         9\n",
       "2          8\n",
       "97         5\n",
       "Name: offage, Length: 101, dtype: int64"
      ]
     },
     "execution_count": 59,
     "metadata": {},
     "output_type": "execute_result"
    }
   ],
   "source": [
    "X['offage'].value_counts()"
   ]
  },
  {
   "cell_type": "code",
   "execution_count": 60,
   "id": "b0391eea-bdde-44dc-9117-175fae1eddff",
   "metadata": {},
   "outputs": [],
   "source": [
    "X['offage'] = X['offage'].replace(999, X['offage'].mean())"
   ]
  },
  {
   "cell_type": "code",
   "execution_count": 61,
   "id": "08894db4-7d45-495f-8e1a-6be55372dd50",
   "metadata": {},
   "outputs": [],
   "source": [
    "X['vicage'] = X['vicage'].replace(999, X['vicage'].mean())"
   ]
  },
  {
   "cell_type": "code",
   "execution_count": 62,
   "id": "3cc4b057-990d-4a58-a79b-510b06b6b320",
   "metadata": {},
   "outputs": [],
   "source": [
    "from sklearn.model_selection import train_test_split"
   ]
  },
  {
   "cell_type": "code",
   "execution_count": 63,
   "id": "191b7d5b-9dff-4395-8fdc-652b78a3de49",
   "metadata": {},
   "outputs": [],
   "source": [
    "X_train, X_test, y_train, y_test = train_test_split(X, y, stratify = y)"
   ]
  },
  {
   "cell_type": "code",
   "execution_count": 64,
   "id": "fce70164-c1b8-4899-bac8-001e4e632fec",
   "metadata": {},
   "outputs": [],
   "source": [
    "from category_encoders import OneHotEncoder"
   ]
  },
  {
   "cell_type": "code",
   "execution_count": 65,
   "id": "a2df0735-4a3a-4214-98cb-d7b4b3264196",
   "metadata": {},
   "outputs": [],
   "source": [
    "ohe = OneHotEncoder(cols = ['state', 'weapon', 'vicsex', 'vicrace', 'vicethnic', 'offsex', 'offethnic', 'relationship', 'homicide', 'situation', 'month'], use_cat_names = True)"
   ]
  },
  {
   "cell_type": "code",
   "execution_count": 66,
   "id": "5c2fddc8-c0aa-4572-9f0e-9ea73e9b0651",
   "metadata": {},
   "outputs": [
    {
     "name": "stderr",
     "output_type": "stream",
     "text": [
      "/opt/anaconda3/lib/python3.7/site-packages/category_encoders/utils.py:21: FutureWarning: is_categorical is deprecated and will be removed in a future version.  Use is_categorical_dtype instead\n",
      "  elif pd.api.types.is_categorical(cols):\n"
     ]
    },
    {
     "data": {
      "text/plain": [
       "OneHotEncoder(cols=['state', 'weapon', 'vicsex', 'vicrace', 'vicethnic',\n",
       "                    'offsex', 'offethnic', 'relationship', 'homicide',\n",
       "                    'situation', 'month'],\n",
       "              use_cat_names=True)"
      ]
     },
     "execution_count": 66,
     "metadata": {},
     "output_type": "execute_result"
    }
   ],
   "source": [
    "ohe.fit(X_train, y_train)"
   ]
  },
  {
   "cell_type": "code",
   "execution_count": 67,
   "id": "d514397f-f69f-485c-af85-dac741327b92",
   "metadata": {},
   "outputs": [],
   "source": [
    "X_train_cats = ohe.transform(X_train, y_train)"
   ]
  },
  {
   "cell_type": "code",
   "execution_count": 68,
   "id": "7c6f0694-3ab9-4f06-a894-817da18de9e1",
   "metadata": {},
   "outputs": [],
   "source": [
    "X_test_cats = ohe.transform(X_test, y_test)"
   ]
  },
  {
   "cell_type": "code",
   "execution_count": 69,
   "id": "22296739-1a2e-45a5-a185-78f306813b2d",
   "metadata": {},
   "outputs": [],
   "source": [
    "model = LinearRegression()"
   ]
  },
  {
   "cell_type": "code",
   "execution_count": 70,
   "id": "02127eec-5ea4-4697-8d5f-c9faf62655fb",
   "metadata": {
    "tags": []
   },
   "outputs": [
    {
     "data": {
      "text/plain": [
       "LinearRegression()"
      ]
     },
     "execution_count": 70,
     "metadata": {},
     "output_type": "execute_result"
    }
   ],
   "source": [
    "model.fit(X_train_cats, y_train)"
   ]
  },
  {
   "cell_type": "code",
   "execution_count": 71,
   "id": "047d3b44-1374-43e2-9d1c-9488797fc13f",
   "metadata": {},
   "outputs": [
    {
     "data": {
      "text/plain": [
       "0.4506008604226962"
      ]
     },
     "execution_count": 71,
     "metadata": {},
     "output_type": "execute_result"
    }
   ],
   "source": [
    "model.score(X_test_cats, y_test)"
   ]
  },
  {
   "cell_type": "code",
   "execution_count": 72,
   "id": "131ce7ab-d124-481c-bec7-4e1c8d13332e",
   "metadata": {},
   "outputs": [
    {
     "data": {
      "text/plain": [
       "0.45072305124490275"
      ]
     },
     "execution_count": 72,
     "metadata": {},
     "output_type": "execute_result"
    }
   ],
   "source": [
    "model.score(X_train_cats, y_train)"
   ]
  },
  {
   "cell_type": "markdown",
   "id": "d065d42a-5e7e-4254-93aa-f2d7fb393f6e",
   "metadata": {},
   "source": [
    "#### Is this bias...? "
   ]
  },
  {
   "cell_type": "code",
   "execution_count": 73,
   "id": "b63e64fb-6af2-4570-9bcb-0112583e7c05",
   "metadata": {},
   "outputs": [
    {
     "data": {
      "text/plain": [
       "605115776.527435"
      ]
     },
     "execution_count": 73,
     "metadata": {},
     "output_type": "execute_result"
    }
   ],
   "source": [
    "model.intercept_"
   ]
  },
  {
   "cell_type": "code",
   "execution_count": 74,
   "id": "a38bb2c2-c2a4-43c9-99a1-6141b53237d8",
   "metadata": {},
   "outputs": [
    {
     "data": {
      "text/plain": [
       "array([-6.05115776e+08, -6.05115776e+08, -6.05115776e+08, -6.05115776e+08,\n",
       "       -6.05115776e+08, -6.05115776e+08, -6.05115776e+08, -6.05115776e+08,\n",
       "       -6.05115776e+08, -6.05115776e+08, -6.05115776e+08, -6.05115776e+08,\n",
       "       -6.05115776e+08, -6.05115776e+08, -6.05115776e+08, -6.05115776e+08,\n",
       "       -6.05115776e+08, -6.05115776e+08, -6.05115776e+08, -6.05115776e+08,\n",
       "       -6.05115776e+08, -6.05115776e+08, -6.05115776e+08, -6.05115776e+08,\n",
       "       -6.05115776e+08, -6.05115776e+08, -6.05115776e+08, -6.05115776e+08,\n",
       "       -6.05115776e+08, -6.05115776e+08, -6.05115776e+08, -6.05115776e+08,\n",
       "       -6.05115776e+08, -6.05115775e+08, -6.05115776e+08, -6.05115776e+08,\n",
       "       -6.05115776e+08, -6.05115776e+08, -6.05115776e+08, -6.05115776e+08,\n",
       "       -6.05115776e+08, -6.05115775e+08, -6.05115776e+08, -6.05115776e+08,\n",
       "       -6.05115776e+08, -6.05115776e+08, -6.05115776e+08, -6.05115775e+08,\n",
       "       -6.05115776e+08, -6.05115776e+08, -6.05115776e+08, -6.05115776e+08,\n",
       "        3.74637544e-04, -1.74552202e-03,  5.02576120e-04, -3.29481903e-04,\n",
       "       -1.20852888e-03,  3.71904671e-03, -2.59283185e-03, -4.45428304e-04,\n",
       "        5.98332658e-03, -3.59068159e-03, -6.16212562e-03,  5.87583333e-03,\n",
       "       -2.53543258e-05, -2.87294388e-05,  3.33187245e-02, -3.33114974e-02,\n",
       "       -3.54702473e-02, -3.33473086e-02, -1.53427124e-02, -1.72116607e-02,\n",
       "        2.56339624e-02,  7.57358754e-02,  8.56518745e-05,  1.41628206e-01,\n",
       "        1.67440474e-01, -3.09054243e-01, -4.51605022e-01, -1.12993115e+00,\n",
       "        4.48811263e-01, -2.36879602e-01,  9.59981322e-01,  4.09607409e-01,\n",
       "       -2.38353938e-01, -5.16431332e-02,  2.89977312e-01,  2.47955322e-04,\n",
       "       -4.21806112e-01, -4.27462235e-01,  8.49272775e-01,  3.08859378e-01,\n",
       "        1.32157326e-01, -4.41011965e-01,  2.83094794e-02,  5.28064966e-02,\n",
       "        2.31022388e-03, -3.36509794e-02,  4.71860468e-02,  2.35746801e-03,\n",
       "        3.55137195e-02,  3.38378549e-02,  1.98944323e-02, -3.01197693e-02,\n",
       "        2.17336826e-02,  3.13277710e-02, -4.51764874e-02, -1.81766447e-01,\n",
       "        5.44238985e-02, -1.87881663e-02, -2.02147188e-02,  3.86335701e-02,\n",
       "        8.63428712e-02,  1.84093267e-02,  3.77479494e-02,  5.35748377e-02,\n",
       "        4.03724313e-02, -2.18231902e-02,  2.16268897e-02, -2.76716128e-02,\n",
       "       -1.33286733e-02, -9.37059689e-02, -7.46279359e-02, -2.51788124e-02,\n",
       "        1.46405399e-03,  1.65421292e-02,  1.26193240e-02, -2.54879296e-02,\n",
       "       -5.47041297e-02,  2.83103846e-02, -1.58655308e-02,  1.13277305e-02,\n",
       "        6.75481837e-02, -1.87138640e-02, -5.94497845e-02,  9.78470326e-02,\n",
       "       -4.00917213e-02, -6.24222658e-02, -4.13052086e-02,  4.19894774e-02,\n",
       "        2.99459696e-03,  9.38296318e-03])"
      ]
     },
     "execution_count": 74,
     "metadata": {},
     "output_type": "execute_result"
    }
   ],
   "source": [
    "model.coef_"
   ]
  },
  {
   "cell_type": "code",
   "execution_count": 75,
   "id": "33d69156-b521-4053-b253-7a2bef561a82",
   "metadata": {},
   "outputs": [
    {
     "data": {
      "text/plain": [
       "Index(['state_Pennsylvania', 'state_California', 'state_South Carolina',\n",
       "       'state_North Carolina', 'state_New York', 'state_Georgia',\n",
       "       'state_Florida', 'state_Arizona', 'state_Ohio', 'state_Indiana',\n",
       "       ...\n",
       "       'relationship_Common-law husband', 'relationship_Sister',\n",
       "       'relationship_Ex-wife', 'relationship_Employee',\n",
       "       'relationship_Ex-husband', 'relationship_Stepmother',\n",
       "       'relationship_Stepdaughter', 'relationship_Employer', 'viccount',\n",
       "       'offcount'],\n",
       "      dtype='object', length=142)"
      ]
     },
     "execution_count": 75,
     "metadata": {},
     "output_type": "execute_result"
    }
   ],
   "source": [
    "X_train_cats.columns"
   ]
  },
  {
   "cell_type": "code",
   "execution_count": 76,
   "id": "d384154c-98be-4e9f-9b67-b61e5203cf83",
   "metadata": {},
   "outputs": [
    {
     "data": {
      "text/html": [
       "<div>\n",
       "<style scoped>\n",
       "    .dataframe tbody tr th:only-of-type {\n",
       "        vertical-align: middle;\n",
       "    }\n",
       "\n",
       "    .dataframe tbody tr th {\n",
       "        vertical-align: top;\n",
       "    }\n",
       "\n",
       "    .dataframe thead th {\n",
       "        text-align: right;\n",
       "    }\n",
       "</style>\n",
       "<table border=\"1\" class=\"dataframe\">\n",
       "  <thead>\n",
       "    <tr style=\"text-align: right;\">\n",
       "      <th></th>\n",
       "      <th>category</th>\n",
       "      <th>coef</th>\n",
       "    </tr>\n",
       "  </thead>\n",
       "  <tbody>\n",
       "    <tr>\n",
       "      <th>0</th>\n",
       "      <td>state_Pennsylvania</td>\n",
       "      <td>-6.051158e+08</td>\n",
       "    </tr>\n",
       "    <tr>\n",
       "      <th>1</th>\n",
       "      <td>state_California</td>\n",
       "      <td>-6.051158e+08</td>\n",
       "    </tr>\n",
       "    <tr>\n",
       "      <th>2</th>\n",
       "      <td>state_South Carolina</td>\n",
       "      <td>-6.051158e+08</td>\n",
       "    </tr>\n",
       "    <tr>\n",
       "      <th>3</th>\n",
       "      <td>state_North Carolina</td>\n",
       "      <td>-6.051158e+08</td>\n",
       "    </tr>\n",
       "    <tr>\n",
       "      <th>4</th>\n",
       "      <td>state_New York</td>\n",
       "      <td>-6.051158e+08</td>\n",
       "    </tr>\n",
       "    <tr>\n",
       "      <th>...</th>\n",
       "      <td>...</td>\n",
       "      <td>...</td>\n",
       "    </tr>\n",
       "    <tr>\n",
       "      <th>137</th>\n",
       "      <td>relationship_Stepmother</td>\n",
       "      <td>-6.242227e-02</td>\n",
       "    </tr>\n",
       "    <tr>\n",
       "      <th>138</th>\n",
       "      <td>relationship_Stepdaughter</td>\n",
       "      <td>-4.130521e-02</td>\n",
       "    </tr>\n",
       "    <tr>\n",
       "      <th>139</th>\n",
       "      <td>relationship_Employer</td>\n",
       "      <td>4.198948e-02</td>\n",
       "    </tr>\n",
       "    <tr>\n",
       "      <th>140</th>\n",
       "      <td>viccount</td>\n",
       "      <td>2.994597e-03</td>\n",
       "    </tr>\n",
       "    <tr>\n",
       "      <th>141</th>\n",
       "      <td>offcount</td>\n",
       "      <td>9.382963e-03</td>\n",
       "    </tr>\n",
       "  </tbody>\n",
       "</table>\n",
       "<p>142 rows × 2 columns</p>\n",
       "</div>"
      ],
      "text/plain": [
       "                      category          coef\n",
       "0           state_Pennsylvania -6.051158e+08\n",
       "1             state_California -6.051158e+08\n",
       "2         state_South Carolina -6.051158e+08\n",
       "3         state_North Carolina -6.051158e+08\n",
       "4               state_New York -6.051158e+08\n",
       "..                         ...           ...\n",
       "137    relationship_Stepmother -6.242227e-02\n",
       "138  relationship_Stepdaughter -4.130521e-02\n",
       "139      relationship_Employer  4.198948e-02\n",
       "140                   viccount  2.994597e-03\n",
       "141                   offcount  9.382963e-03\n",
       "\n",
       "[142 rows x 2 columns]"
      ]
     },
     "execution_count": 76,
     "metadata": {},
     "output_type": "execute_result"
    }
   ],
   "source": [
    "pd.DataFrame(zip(X_train_cats.columns, model.coef_), columns = ['category', 'coef'])"
   ]
  },
  {
   "cell_type": "code",
   "execution_count": 77,
   "id": "50b9eb84-76f4-4389-bc10-fc2d2d17ab35",
   "metadata": {},
   "outputs": [],
   "source": [
    "y_pred = model.predict(X_test_cats)"
   ]
  },
  {
   "cell_type": "code",
   "execution_count": 78,
   "id": "94fc822e-79c3-49c5-9b77-dc41c3a7e4d3",
   "metadata": {},
   "outputs": [
    {
     "data": {
      "text/plain": [
       "0.4997587781171392"
      ]
     },
     "execution_count": 78,
     "metadata": {},
     "output_type": "execute_result"
    }
   ],
   "source": [
    "mean_squared_error(y_test, y_pred, squared = False)"
   ]
  },
  {
   "cell_type": "code",
   "execution_count": 79,
   "id": "7c4ace6a-abe7-4736-b60e-a81e07cea74e",
   "metadata": {},
   "outputs": [],
   "source": [
    "from sklearn.dummy import DummyRegressor"
   ]
  },
  {
   "cell_type": "code",
   "execution_count": 80,
   "id": "cbe0485b-f267-44ae-b996-f310d452eb93",
   "metadata": {},
   "outputs": [],
   "source": [
    "dum = DummyRegressor()"
   ]
  },
  {
   "cell_type": "code",
   "execution_count": 81,
   "id": "39612e74-acb1-4636-a58a-453cad5d9aec",
   "metadata": {},
   "outputs": [
    {
     "data": {
      "text/plain": [
       "DummyRegressor()"
      ]
     },
     "execution_count": 81,
     "metadata": {},
     "output_type": "execute_result"
    }
   ],
   "source": [
    "dum.fit(X_train_cats, y_train)"
   ]
  },
  {
   "cell_type": "code",
   "execution_count": 82,
   "id": "163ab42c-4a36-4b39-b6dd-5ba3249bd5bd",
   "metadata": {},
   "outputs": [],
   "source": [
    "dum_pred = dum.predict(X_test_cats)"
   ]
  },
  {
   "cell_type": "code",
   "execution_count": 83,
   "id": "13614a0c-f9ba-426c-a66d-8ba70bd849ac",
   "metadata": {},
   "outputs": [
    {
     "data": {
      "text/plain": [
       "0.6742429958902862"
      ]
     },
     "execution_count": 83,
     "metadata": {},
     "output_type": "execute_result"
    }
   ],
   "source": [
    "mean_squared_error(y_test, dum_pred, squared = False)"
   ]
  },
  {
   "cell_type": "markdown",
   "id": "6e0673e1-4543-4635-8a8a-fbe891997182",
   "metadata": {},
   "source": [
    "The MSE for LR model is lower than dummy regression. "
   ]
  },
  {
   "cell_type": "markdown",
   "id": "ca3940f2-440d-4b50-bc2c-0828c818223d",
   "metadata": {},
   "source": [
    "#### Of course, Linear Reg is not the right model to run here. Trying LogReg then to K-means"
   ]
  }
 ],
 "metadata": {
  "kernelspec": {
   "display_name": "Python 3",
   "language": "python",
   "name": "python3"
  },
  "language_info": {
   "codemirror_mode": {
    "name": "ipython",
    "version": 3
   },
   "file_extension": ".py",
   "mimetype": "text/x-python",
   "name": "python",
   "nbconvert_exporter": "python",
   "pygments_lexer": "ipython3",
   "version": "3.7.11"
  }
 },
 "nbformat": 4,
 "nbformat_minor": 5
}
